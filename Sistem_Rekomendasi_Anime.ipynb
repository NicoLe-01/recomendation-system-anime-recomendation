{
  "nbformat": 4,
  "nbformat_minor": 0,
  "metadata": {
    "colab": {
      "provenance": [],
      "collapsed_sections": [
        "yzgGTuPIhMuf"
      ]
    },
    "kernelspec": {
      "name": "python3",
      "display_name": "Python 3"
    },
    "language_info": {
      "name": "python"
    },
    "gpuClass": "standard",
    "accelerator": "GPU"
  },
  "cells": [
    {
      "cell_type": "markdown",
      "source": [
        "Dataset : https://www.kaggle.com/datasets/CooperUnion/anime-recommendations-database"
      ],
      "metadata": {
        "id": "N59jWF0qqBXc"
      }
    },
    {
      "cell_type": "code",
      "source": [
        "!unzip '/content/drive/MyDrive/Dataset_Kaggle/Anime Recommendations Database.zip' -d '/content/dataset'"
      ],
      "metadata": {
        "colab": {
          "base_uri": "https://localhost:8080/"
        },
        "id": "__BnT_yBqb09",
        "outputId": "c7d70a87-d547-4c28-fa99-96a6502007ae"
      },
      "execution_count": null,
      "outputs": [
        {
          "output_type": "stream",
          "name": "stdout",
          "text": [
            "Archive:  /content/drive/MyDrive/Dataset_Kaggle/Anime Recommendations Database.zip\n",
            "  inflating: /content/dataset/anime.csv  \n",
            "  inflating: /content/dataset/rating.csv  \n"
          ]
        }
      ]
    },
    {
      "cell_type": "markdown",
      "source": [
        "Import library"
      ],
      "metadata": {
        "id": "rZMh_B6Tj-wA"
      }
    },
    {
      "cell_type": "code",
      "source": [
        "import pandas as pd\n",
        "import numpy as np\n",
        "import matplotlib.pyplot as plt\n",
        "%matplotlib inline\n",
        "import seaborn as sns\n",
        "from collections import defaultdict"
      ],
      "metadata": {
        "id": "Og_2uSIDqhhf"
      },
      "execution_count": null,
      "outputs": []
    },
    {
      "cell_type": "markdown",
      "source": [
        "Baca dataset"
      ],
      "metadata": {
        "id": "QKggA4vlj7-t"
      }
    },
    {
      "cell_type": "code",
      "source": [
        "animes = pd.read_csv('/content/dataset/anime.csv')\n",
        "ratings = pd.read_csv('/content/dataset/rating.csv')"
      ],
      "metadata": {
        "id": "8M5W5Prqjd7C"
      },
      "execution_count": null,
      "outputs": []
    },
    {
      "cell_type": "code",
      "source": [
        "animes.head()"
      ],
      "metadata": {
        "colab": {
          "base_uri": "https://localhost:8080/",
          "height": 206
        },
        "id": "TROwHwugkFwF",
        "outputId": "ddcacc9a-290c-4fea-f479-9a0f0c9a5136"
      },
      "execution_count": null,
      "outputs": [
        {
          "output_type": "execute_result",
          "data": {
            "text/plain": [
              "   anime_id                              name  \\\n",
              "0     32281                    Kimi no Na wa.   \n",
              "1      5114  Fullmetal Alchemist: Brotherhood   \n",
              "2     28977                          Gintama°   \n",
              "3      9253                       Steins;Gate   \n",
              "4      9969                     Gintama&#039;   \n",
              "\n",
              "                                               genre   type episodes  rating  \\\n",
              "0               Drama, Romance, School, Supernatural  Movie        1    9.37   \n",
              "1  Action, Adventure, Drama, Fantasy, Magic, Mili...     TV       64    9.26   \n",
              "2  Action, Comedy, Historical, Parody, Samurai, S...     TV       51    9.25   \n",
              "3                                   Sci-Fi, Thriller     TV       24    9.17   \n",
              "4  Action, Comedy, Historical, Parody, Samurai, S...     TV       51    9.16   \n",
              "\n",
              "   members  \n",
              "0   200630  \n",
              "1   793665  \n",
              "2   114262  \n",
              "3   673572  \n",
              "4   151266  "
            ],
            "text/html": [
              "\n",
              "  <div id=\"df-50130ec2-3206-48ac-af41-8ebd660f4591\">\n",
              "    <div class=\"colab-df-container\">\n",
              "      <div>\n",
              "<style scoped>\n",
              "    .dataframe tbody tr th:only-of-type {\n",
              "        vertical-align: middle;\n",
              "    }\n",
              "\n",
              "    .dataframe tbody tr th {\n",
              "        vertical-align: top;\n",
              "    }\n",
              "\n",
              "    .dataframe thead th {\n",
              "        text-align: right;\n",
              "    }\n",
              "</style>\n",
              "<table border=\"1\" class=\"dataframe\">\n",
              "  <thead>\n",
              "    <tr style=\"text-align: right;\">\n",
              "      <th></th>\n",
              "      <th>anime_id</th>\n",
              "      <th>name</th>\n",
              "      <th>genre</th>\n",
              "      <th>type</th>\n",
              "      <th>episodes</th>\n",
              "      <th>rating</th>\n",
              "      <th>members</th>\n",
              "    </tr>\n",
              "  </thead>\n",
              "  <tbody>\n",
              "    <tr>\n",
              "      <th>0</th>\n",
              "      <td>32281</td>\n",
              "      <td>Kimi no Na wa.</td>\n",
              "      <td>Drama, Romance, School, Supernatural</td>\n",
              "      <td>Movie</td>\n",
              "      <td>1</td>\n",
              "      <td>9.37</td>\n",
              "      <td>200630</td>\n",
              "    </tr>\n",
              "    <tr>\n",
              "      <th>1</th>\n",
              "      <td>5114</td>\n",
              "      <td>Fullmetal Alchemist: Brotherhood</td>\n",
              "      <td>Action, Adventure, Drama, Fantasy, Magic, Mili...</td>\n",
              "      <td>TV</td>\n",
              "      <td>64</td>\n",
              "      <td>9.26</td>\n",
              "      <td>793665</td>\n",
              "    </tr>\n",
              "    <tr>\n",
              "      <th>2</th>\n",
              "      <td>28977</td>\n",
              "      <td>Gintama°</td>\n",
              "      <td>Action, Comedy, Historical, Parody, Samurai, S...</td>\n",
              "      <td>TV</td>\n",
              "      <td>51</td>\n",
              "      <td>9.25</td>\n",
              "      <td>114262</td>\n",
              "    </tr>\n",
              "    <tr>\n",
              "      <th>3</th>\n",
              "      <td>9253</td>\n",
              "      <td>Steins;Gate</td>\n",
              "      <td>Sci-Fi, Thriller</td>\n",
              "      <td>TV</td>\n",
              "      <td>24</td>\n",
              "      <td>9.17</td>\n",
              "      <td>673572</td>\n",
              "    </tr>\n",
              "    <tr>\n",
              "      <th>4</th>\n",
              "      <td>9969</td>\n",
              "      <td>Gintama&amp;#039;</td>\n",
              "      <td>Action, Comedy, Historical, Parody, Samurai, S...</td>\n",
              "      <td>TV</td>\n",
              "      <td>51</td>\n",
              "      <td>9.16</td>\n",
              "      <td>151266</td>\n",
              "    </tr>\n",
              "  </tbody>\n",
              "</table>\n",
              "</div>\n",
              "      <button class=\"colab-df-convert\" onclick=\"convertToInteractive('df-50130ec2-3206-48ac-af41-8ebd660f4591')\"\n",
              "              title=\"Convert this dataframe to an interactive table.\"\n",
              "              style=\"display:none;\">\n",
              "        \n",
              "  <svg xmlns=\"http://www.w3.org/2000/svg\" height=\"24px\"viewBox=\"0 0 24 24\"\n",
              "       width=\"24px\">\n",
              "    <path d=\"M0 0h24v24H0V0z\" fill=\"none\"/>\n",
              "    <path d=\"M18.56 5.44l.94 2.06.94-2.06 2.06-.94-2.06-.94-.94-2.06-.94 2.06-2.06.94zm-11 1L8.5 8.5l.94-2.06 2.06-.94-2.06-.94L8.5 2.5l-.94 2.06-2.06.94zm10 10l.94 2.06.94-2.06 2.06-.94-2.06-.94-.94-2.06-.94 2.06-2.06.94z\"/><path d=\"M17.41 7.96l-1.37-1.37c-.4-.4-.92-.59-1.43-.59-.52 0-1.04.2-1.43.59L10.3 9.45l-7.72 7.72c-.78.78-.78 2.05 0 2.83L4 21.41c.39.39.9.59 1.41.59.51 0 1.02-.2 1.41-.59l7.78-7.78 2.81-2.81c.8-.78.8-2.07 0-2.86zM5.41 20L4 18.59l7.72-7.72 1.47 1.35L5.41 20z\"/>\n",
              "  </svg>\n",
              "      </button>\n",
              "      \n",
              "  <style>\n",
              "    .colab-df-container {\n",
              "      display:flex;\n",
              "      flex-wrap:wrap;\n",
              "      gap: 12px;\n",
              "    }\n",
              "\n",
              "    .colab-df-convert {\n",
              "      background-color: #E8F0FE;\n",
              "      border: none;\n",
              "      border-radius: 50%;\n",
              "      cursor: pointer;\n",
              "      display: none;\n",
              "      fill: #1967D2;\n",
              "      height: 32px;\n",
              "      padding: 0 0 0 0;\n",
              "      width: 32px;\n",
              "    }\n",
              "\n",
              "    .colab-df-convert:hover {\n",
              "      background-color: #E2EBFA;\n",
              "      box-shadow: 0px 1px 2px rgba(60, 64, 67, 0.3), 0px 1px 3px 1px rgba(60, 64, 67, 0.15);\n",
              "      fill: #174EA6;\n",
              "    }\n",
              "\n",
              "    [theme=dark] .colab-df-convert {\n",
              "      background-color: #3B4455;\n",
              "      fill: #D2E3FC;\n",
              "    }\n",
              "\n",
              "    [theme=dark] .colab-df-convert:hover {\n",
              "      background-color: #434B5C;\n",
              "      box-shadow: 0px 1px 3px 1px rgba(0, 0, 0, 0.15);\n",
              "      filter: drop-shadow(0px 1px 2px rgba(0, 0, 0, 0.3));\n",
              "      fill: #FFFFFF;\n",
              "    }\n",
              "  </style>\n",
              "\n",
              "      <script>\n",
              "        const buttonEl =\n",
              "          document.querySelector('#df-50130ec2-3206-48ac-af41-8ebd660f4591 button.colab-df-convert');\n",
              "        buttonEl.style.display =\n",
              "          google.colab.kernel.accessAllowed ? 'block' : 'none';\n",
              "\n",
              "        async function convertToInteractive(key) {\n",
              "          const element = document.querySelector('#df-50130ec2-3206-48ac-af41-8ebd660f4591');\n",
              "          const dataTable =\n",
              "            await google.colab.kernel.invokeFunction('convertToInteractive',\n",
              "                                                     [key], {});\n",
              "          if (!dataTable) return;\n",
              "\n",
              "          const docLinkHtml = 'Like what you see? Visit the ' +\n",
              "            '<a target=\"_blank\" href=https://colab.research.google.com/notebooks/data_table.ipynb>data table notebook</a>'\n",
              "            + ' to learn more about interactive tables.';\n",
              "          element.innerHTML = '';\n",
              "          dataTable['output_type'] = 'display_data';\n",
              "          await google.colab.output.renderOutput(dataTable, element);\n",
              "          const docLink = document.createElement('div');\n",
              "          docLink.innerHTML = docLinkHtml;\n",
              "          element.appendChild(docLink);\n",
              "        }\n",
              "      </script>\n",
              "    </div>\n",
              "  </div>\n",
              "  "
            ]
          },
          "metadata": {},
          "execution_count": 4
        }
      ]
    },
    {
      "cell_type": "code",
      "source": [
        "animes.info()"
      ],
      "metadata": {
        "colab": {
          "base_uri": "https://localhost:8080/"
        },
        "id": "G582IpM-y3Vz",
        "outputId": "c0ce67e0-708f-4957-b40e-eb974423e3a2"
      },
      "execution_count": null,
      "outputs": [
        {
          "output_type": "stream",
          "name": "stdout",
          "text": [
            "<class 'pandas.core.frame.DataFrame'>\n",
            "RangeIndex: 12294 entries, 0 to 12293\n",
            "Data columns (total 7 columns):\n",
            " #   Column    Non-Null Count  Dtype  \n",
            "---  ------    --------------  -----  \n",
            " 0   anime_id  12294 non-null  int64  \n",
            " 1   name      12294 non-null  object \n",
            " 2   genre     12232 non-null  object \n",
            " 3   type      12269 non-null  object \n",
            " 4   episodes  12294 non-null  object \n",
            " 5   rating    12064 non-null  float64\n",
            " 6   members   12294 non-null  int64  \n",
            "dtypes: float64(1), int64(2), object(4)\n",
            "memory usage: 672.5+ KB\n"
          ]
        }
      ]
    },
    {
      "cell_type": "markdown",
      "source": [
        "Dapat dilihat bahwa terdapat 12294 judul anime pada dataset"
      ],
      "metadata": {
        "id": "AD5wu_L_KmYP"
      }
    },
    {
      "cell_type": "code",
      "source": [
        "print('banyak data : ', len(animes.anime_id.unique()))\n",
        "print('jenis genre : ', animes.genre.unique())"
      ],
      "metadata": {
        "colab": {
          "base_uri": "https://localhost:8080/"
        },
        "id": "0Z6LP3wsKlxd",
        "outputId": "8d800b65-27d0-4871-f656-07eec8c60256"
      },
      "execution_count": null,
      "outputs": [
        {
          "output_type": "stream",
          "name": "stdout",
          "text": [
            "banyak data :  12294\n",
            "jenis genre :  ['Drama, Romance, School, Supernatural'\n",
            " 'Action, Adventure, Drama, Fantasy, Magic, Military, Shounen'\n",
            " 'Action, Comedy, Historical, Parody, Samurai, Sci-Fi, Shounen' ...\n",
            " 'Hentai, Sports' 'Drama, Romance, School, Yuri' 'Hentai, Slice of Life']\n"
          ]
        }
      ]
    },
    {
      "cell_type": "code",
      "source": [
        "print(animes.type.unique())"
      ],
      "metadata": {
        "colab": {
          "base_uri": "https://localhost:8080/"
        },
        "id": "Jj4H6E2rpJ7Z",
        "outputId": "072fa90c-0ad9-49ae-f941-a5732ac39513"
      },
      "execution_count": null,
      "outputs": [
        {
          "output_type": "stream",
          "name": "stdout",
          "text": [
            "['Movie' 'TV' 'OVA' 'Special' 'Music' 'ONA' nan]\n"
          ]
        }
      ]
    },
    {
      "cell_type": "markdown",
      "source": [
        "Cek nilai null"
      ],
      "metadata": {
        "id": "itCT8_WtPSgF"
      }
    },
    {
      "cell_type": "code",
      "source": [
        "animes.isnull().sum()"
      ],
      "metadata": {
        "colab": {
          "base_uri": "https://localhost:8080/"
        },
        "id": "7LSYUS5PPEmJ",
        "outputId": "5255e9c7-7d44-4d41-f8eb-f9b7b3fe53cf"
      },
      "execution_count": null,
      "outputs": [
        {
          "output_type": "execute_result",
          "data": {
            "text/plain": [
              "anime_id      0\n",
              "name          0\n",
              "genre        62\n",
              "type         25\n",
              "episodes      0\n",
              "rating      230\n",
              "members       0\n",
              "dtype: int64"
            ]
          },
          "metadata": {},
          "execution_count": 74
        }
      ]
    },
    {
      "cell_type": "markdown",
      "source": [
        "Hapus nilai null"
      ],
      "metadata": {
        "id": "7tlX88SgPUq-"
      }
    },
    {
      "cell_type": "code",
      "source": [
        "animes.dropna(inplace=True)"
      ],
      "metadata": {
        "id": "jp_eJQZNPLtG"
      },
      "execution_count": null,
      "outputs": []
    },
    {
      "cell_type": "code",
      "source": [
        "animes.isnull().sum()"
      ],
      "metadata": {
        "colab": {
          "base_uri": "https://localhost:8080/"
        },
        "id": "gzTbToW3PPev",
        "outputId": "9e8a1e51-4753-4a55-e306-e1f9fe685656"
      },
      "execution_count": null,
      "outputs": [
        {
          "output_type": "execute_result",
          "data": {
            "text/plain": [
              "anime_id    0\n",
              "name        0\n",
              "genre       0\n",
              "type        0\n",
              "episodes    0\n",
              "rating      0\n",
              "members     0\n",
              "dtype: int64"
            ]
          },
          "metadata": {},
          "execution_count": 76
        }
      ]
    },
    {
      "cell_type": "markdown",
      "source": [
        "Hitung banyak genre lalu dimasukkan ke dalam dictionary"
      ],
      "metadata": {
        "id": "LG4T9m8wYMyU"
      }
    },
    {
      "cell_type": "code",
      "source": [
        "all_genres = defaultdict(int)\n",
        "\n",
        "for genres in animes['genre']:\n",
        "    for genre in genres.split(','):\n",
        "        all_genres[genre.strip()] += 1"
      ],
      "metadata": {
        "id": "qAUcBwTtZnOy"
      },
      "execution_count": null,
      "outputs": []
    },
    {
      "cell_type": "code",
      "source": [
        "all_genres"
      ],
      "metadata": {
        "colab": {
          "base_uri": "https://localhost:8080/"
        },
        "id": "onZnFdevaVh-",
        "outputId": "a648325c-8eda-43fa-9e84-b78b704b8522"
      },
      "execution_count": null,
      "outputs": [
        {
          "output_type": "execute_result",
          "data": {
            "text/plain": [
              "defaultdict(int,\n",
              "            {'Drama': 1977,\n",
              "             'Romance': 1437,\n",
              "             'School': 1176,\n",
              "             'Supernatural': 1001,\n",
              "             'Action': 2768,\n",
              "             'Adventure': 2316,\n",
              "             'Fantasy': 2242,\n",
              "             'Magic': 747,\n",
              "             'Military': 416,\n",
              "             'Shounen': 1684,\n",
              "             'Comedy': 4575,\n",
              "             'Historical': 798,\n",
              "             'Parody': 403,\n",
              "             'Samurai': 146,\n",
              "             'Sci-Fi': 2036,\n",
              "             'Thriller': 86,\n",
              "             'Sports': 533,\n",
              "             'Super Power': 451,\n",
              "             'Space': 377,\n",
              "             'Slice of Life': 1204,\n",
              "             'Mecha': 929,\n",
              "             'Music': 842,\n",
              "             'Mystery': 485,\n",
              "             'Seinen': 532,\n",
              "             'Martial Arts': 264,\n",
              "             'Vampire': 100,\n",
              "             'Shoujo': 594,\n",
              "             'Horror': 362,\n",
              "             'Police': 195,\n",
              "             'Psychological': 226,\n",
              "             'Demons': 287,\n",
              "             'Ecchi': 628,\n",
              "             'Josei': 52,\n",
              "             'Shounen Ai': 62,\n",
              "             'Game': 177,\n",
              "             'Dementia': 238,\n",
              "             'Harem': 313,\n",
              "             'Cars': 72,\n",
              "             'Kids': 1598,\n",
              "             'Shoujo Ai': 54,\n",
              "             'Hentai': 1133,\n",
              "             'Yaoi': 38,\n",
              "             'Yuri': 41})"
            ]
          },
          "metadata": {},
          "execution_count": 78
        }
      ]
    },
    {
      "cell_type": "markdown",
      "source": [
        "Pesebaran genre anime"
      ],
      "metadata": {
        "id": "eyqwi_rjToS_"
      }
    },
    {
      "cell_type": "code",
      "source": [
        "from wordcloud import WordCloud"
      ],
      "metadata": {
        "id": "pnXye-PXwdgP"
      },
      "execution_count": null,
      "outputs": []
    },
    {
      "cell_type": "code",
      "source": [
        "from collections import defaultdict\n",
        "\n",
        "all_genres = defaultdict(int)\n",
        "\n",
        "for genres in animes['genre']:\n",
        "    for genre in genres.split(','):\n",
        "        all_genres[genre.strip()] += 1"
      ],
      "metadata": {
        "id": "fXrXgQwVTn2Y"
      },
      "execution_count": null,
      "outputs": []
    },
    {
      "cell_type": "code",
      "source": [
        "def wordCloud(words):\n",
        "    wordCloud = WordCloud(width=1000, height=800, background_color='white').generate_from_frequencies(words)\n",
        "\n",
        "    plt.imshow(wordCloud, interpolation='bilinear')\n",
        "    plt.axis('off')\n",
        "    plt.show()"
      ],
      "metadata": {
        "id": "Ak7DPEWicNKM"
      },
      "execution_count": null,
      "outputs": []
    },
    {
      "cell_type": "code",
      "source": [
        "wordCloud(all_genres)"
      ],
      "metadata": {
        "colab": {
          "base_uri": "https://localhost:8080/",
          "height": 248
        },
        "id": "1fZMZRj0d6-F",
        "outputId": "7e1d4bd4-1774-4e9b-c2a5-b0dc2751abf8"
      },
      "execution_count": null,
      "outputs": [
        {
          "output_type": "display_data",
          "data": {
            "text/plain": [
              "<Figure size 432x288 with 1 Axes>"
            ],
            "image/png": "[encoded data removed]"
          },
          "metadata": {
            "needs_background": "light"
          }
        }
      ]
    },
    {
      "cell_type": "markdown",
      "source": [
        "# **Content Base Filltering**"
      ],
      "metadata": {
        "id": "yzgGTuPIhMuf"
      }
    },
    {
      "cell_type": "code",
      "source": [
        "from sklearn.feature_extraction.text import TfidfVectorizer\n",
        "from sklearn.metrics.pairwise import cosine_similarity"
      ],
      "metadata": {
        "id": "sQyJGkuwP-Xa"
      },
      "execution_count": null,
      "outputs": []
    },
    {
      "cell_type": "code",
      "source": [
        "tf = TfidfVectorizer() # inisiasi \n",
        "tf.fit(animes['genre'])\n",
        "tf.get_feature_names()"
      ],
      "metadata": {
        "colab": {
          "base_uri": "https://localhost:8080/"
        },
        "id": "r0uyTrvIePMS",
        "outputId": "cab6e011-fcf8-47db-dd3b-3ed3160c3c51"
      },
      "execution_count": null,
      "outputs": [
        {
          "output_type": "stream",
          "name": "stderr",
          "text": [
            "/usr/local/lib/python3.7/dist-packages/sklearn/utils/deprecation.py:87: FutureWarning: Function get_feature_names is deprecated; get_feature_names is deprecated in 1.0 and will be removed in 1.2. Please use get_feature_names_out instead.\n",
            "  warnings.warn(msg, category=FutureWarning)\n"
          ]
        },
        {
          "output_type": "execute_result",
          "data": {
            "text/plain": [
              "['action',\n",
              " 'adventure',\n",
              " 'ai',\n",
              " 'arts',\n",
              " 'cars',\n",
              " 'comedy',\n",
              " 'dementia',\n",
              " 'demons',\n",
              " 'drama',\n",
              " 'ecchi',\n",
              " 'fantasy',\n",
              " 'fi',\n",
              " 'game',\n",
              " 'harem',\n",
              " 'hentai',\n",
              " 'historical',\n",
              " 'horror',\n",
              " 'josei',\n",
              " 'kids',\n",
              " 'life',\n",
              " 'magic',\n",
              " 'martial',\n",
              " 'mecha',\n",
              " 'military',\n",
              " 'music',\n",
              " 'mystery',\n",
              " 'of',\n",
              " 'parody',\n",
              " 'police',\n",
              " 'power',\n",
              " 'psychological',\n",
              " 'romance',\n",
              " 'samurai',\n",
              " 'school',\n",
              " 'sci',\n",
              " 'seinen',\n",
              " 'shoujo',\n",
              " 'shounen',\n",
              " 'slice',\n",
              " 'space',\n",
              " 'sports',\n",
              " 'super',\n",
              " 'supernatural',\n",
              " 'thriller',\n",
              " 'vampire',\n",
              " 'yaoi',\n",
              " 'yuri']"
            ]
          },
          "metadata": {},
          "execution_count": 84
        }
      ]
    },
    {
      "cell_type": "code",
      "source": [
        "tfidf_matrix = tf.fit_transform(animes['genre'])"
      ],
      "metadata": {
        "id": "F9XlA5SyePJw"
      },
      "execution_count": null,
      "outputs": []
    },
    {
      "cell_type": "code",
      "source": [
        "tfidf_matrix.shape"
      ],
      "metadata": {
        "colab": {
          "base_uri": "https://localhost:8080/"
        },
        "id": "hGDOeupWePHg",
        "outputId": "5abc4f16-d4ec-4a5b-a3cf-2992dbd3fc9a"
      },
      "execution_count": null,
      "outputs": [
        {
          "output_type": "execute_result",
          "data": {
            "text/plain": [
              "(12017, 47)"
            ]
          },
          "metadata": {},
          "execution_count": 86
        }
      ]
    },
    {
      "cell_type": "code",
      "source": [
        "tfidf_matrix.todense()"
      ],
      "metadata": {
        "colab": {
          "base_uri": "https://localhost:8080/"
        },
        "id": "iszbmMIRePFE",
        "outputId": "f6b102f5-4893-43e9-c8ba-14620effcb74"
      },
      "execution_count": null,
      "outputs": [
        {
          "output_type": "execute_result",
          "data": {
            "text/plain": [
              "matrix([[0.        , 0.        , 0.        , ..., 0.        , 0.        ,\n",
              "         0.        ],\n",
              "        [0.29498527, 0.3162867 , 0.        , ..., 0.        , 0.        ,\n",
              "         0.        ],\n",
              "        [0.2516182 , 0.        , 0.        , ..., 0.        , 0.        ,\n",
              "         0.        ],\n",
              "        ...,\n",
              "        [0.        , 0.        , 0.        , ..., 0.        , 0.        ,\n",
              "         0.        ],\n",
              "        [0.        , 0.        , 0.        , ..., 0.        , 0.        ,\n",
              "         0.        ],\n",
              "        [0.        , 0.        , 0.        , ..., 0.        , 0.        ,\n",
              "         0.        ]])"
            ]
          },
          "metadata": {},
          "execution_count": 87
        }
      ]
    },
    {
      "cell_type": "markdown",
      "source": [
        "Cek vektor"
      ],
      "metadata": {
        "id": "vTZespXvY1f7"
      }
    },
    {
      "cell_type": "code",
      "source": [
        "pd.DataFrame(\n",
        "    tfidf_matrix.todense(),\n",
        "    columns=tf.get_feature_names(),\n",
        "    index=animes.name\n",
        ").sample(22, axis=1).sample(10, axis=0)"
      ],
      "metadata": {
        "colab": {
          "base_uri": "https://localhost:8080/",
          "height": 783
        },
        "id": "LEIE77F6ePCl",
        "outputId": "64abf61f-f44a-4044-fc92-a6d33c8b4b1d"
      },
      "execution_count": null,
      "outputs": [
        {
          "output_type": "execute_result",
          "data": {
            "text/plain": [
              "                                            space  yaoi  cars  hentai  yuri  \\\n",
              "name                                                                          \n",
              "Detective Conan: Black History 2              0.0   0.0   0.0     0.0   0.0   \n",
              "Slayers Try                                   0.0   0.0   0.0     0.0   0.0   \n",
              "Hello Kitty no Minna no Mori wo Mamore!       0.0   0.0   0.0     0.0   0.0   \n",
              "Chinyuuki: Tarou to Yukai na Nakama-tachi     0.0   0.0   0.0     0.0   0.0   \n",
              "Mitsume ga Tooru                              0.0   0.0   0.0     0.0   0.0   \n",
              "Detective Conan OVA 10: Kid in Trap Island    0.0   0.0   0.0     0.0   0.0   \n",
              "Arc the Lad                                   0.0   0.0   0.0     0.0   0.0   \n",
              "Kuroshitsuji Special                          0.0   0.0   0.0     0.0   0.0   \n",
              "Choegang Habche: Mix Master                   0.0   0.0   0.0     0.0   0.0   \n",
              "Ozma                                          0.0   0.0   0.0     0.0   0.0   \n",
              "\n",
              "                                            samurai  sports  supernatural  \\\n",
              "name                                                                        \n",
              "Detective Conan: Black History 2                0.0     0.0           0.0   \n",
              "Slayers Try                                     0.0     0.0           0.0   \n",
              "Hello Kitty no Minna no Mori wo Mamore!         0.0     0.0           0.0   \n",
              "Chinyuuki: Tarou to Yukai na Nakama-tachi       0.0     0.0           0.0   \n",
              "Mitsume ga Tooru                                0.0     0.0           0.0   \n",
              "Detective Conan OVA 10: Kid in Trap Island      0.0     0.0           0.0   \n",
              "Arc the Lad                                     0.0     0.0           0.0   \n",
              "Kuroshitsuji Special                            0.0     0.0           0.0   \n",
              "Choegang Habche: Mix Master                     0.0     0.0           0.0   \n",
              "Ozma                                            0.0     0.0           0.0   \n",
              "\n",
              "                                             mystery     magic  ...    comedy  \\\n",
              "name                                                            ...             \n",
              "Detective Conan: Black History 2            0.528787  0.000000  ...  0.247002   \n",
              "Slayers Try                                 0.000000  0.474818  ...  0.247115   \n",
              "Hello Kitty no Minna no Mori wo Mamore!     0.000000  0.000000  ...  0.000000   \n",
              "Chinyuuki: Tarou to Yukai na Nakama-tachi   0.000000  0.000000  ...  1.000000   \n",
              "Mitsume ga Tooru                            0.000000  0.000000  ...  0.000000   \n",
              "Detective Conan OVA 10: Kid in Trap Island  0.528787  0.000000  ...  0.247002   \n",
              "Arc the Lad                                 0.000000  0.000000  ...  0.000000   \n",
              "Kuroshitsuji Special                        0.000000  0.000000  ...  0.291256   \n",
              "Choegang Habche: Mix Master                 0.000000  0.000000  ...  0.000000   \n",
              "Ozma                                        0.000000  0.000000  ...  0.000000   \n",
              "\n",
              "                                            josei   of  school  power  \\\n",
              "name                                                                    \n",
              "Detective Conan: Black History 2              0.0  0.0     0.0    0.0   \n",
              "Slayers Try                                   0.0  0.0     0.0    0.0   \n",
              "Hello Kitty no Minna no Mori wo Mamore!       0.0  0.0     0.0    0.0   \n",
              "Chinyuuki: Tarou to Yukai na Nakama-tachi     0.0  0.0     0.0    0.0   \n",
              "Mitsume ga Tooru                              0.0  0.0     0.0    0.0   \n",
              "Detective Conan OVA 10: Kid in Trap Island    0.0  0.0     0.0    0.0   \n",
              "Arc the Lad                                   0.0  0.0     0.0    0.0   \n",
              "Kuroshitsuji Special                          0.0  0.0     0.0    0.0   \n",
              "Choegang Habche: Mix Master                   0.0  0.0     0.0    0.0   \n",
              "Ozma                                          0.0  0.0     0.0    0.0   \n",
              "\n",
              "                                              parody  kids   ai  slice  game  \n",
              "name                                                                          \n",
              "Detective Conan: Black History 2            0.000000   0.0  0.0    0.0   0.0  \n",
              "Slayers Try                                 0.000000   0.0  0.0    0.0   0.0  \n",
              "Hello Kitty no Minna no Mori wo Mamore!     0.000000   1.0  0.0    0.0   0.0  \n",
              "Chinyuuki: Tarou to Yukai na Nakama-tachi   0.000000   0.0  0.0    0.0   0.0  \n",
              "Mitsume ga Tooru                            0.000000   0.0  0.0    0.0   0.0  \n",
              "Detective Conan OVA 10: Kid in Trap Island  0.000000   0.0  0.0    0.0   0.0  \n",
              "Arc the Lad                                 0.000000   0.0  0.0    0.0   0.0  \n",
              "Kuroshitsuji Special                        0.650909   0.0  0.0    0.0   0.0  \n",
              "Choegang Habche: Mix Master                 0.000000   0.0  0.0    0.0   0.0  \n",
              "Ozma                                        0.000000   0.0  0.0    0.0   0.0  \n",
              "\n",
              "[10 rows x 22 columns]"
            ],
            "text/html": [
              "\n",
              "  <div id=\"df-c25e4a6a-8ff7-4f5a-b3f6-aa3d23434102\">\n",
              "    <div class=\"colab-df-container\">\n",
              "      <div>\n",
              "<style scoped>\n",
              "    .dataframe tbody tr th:only-of-type {\n",
              "        vertical-align: middle;\n",
              "    }\n",
              "\n",
              "    .dataframe tbody tr th {\n",
              "        vertical-align: top;\n",
              "    }\n",
              "\n",
              "    .dataframe thead th {\n",
              "        text-align: right;\n",
              "    }\n",
              "</style>\n",
              "<table border=\"1\" class=\"dataframe\">\n",
              "  <thead>\n",
              "    <tr style=\"text-align: right;\">\n",
              "      <th></th>\n",
              "      <th>space</th>\n",
              "      <th>yaoi</th>\n",
              "      <th>cars</th>\n",
              "      <th>hentai</th>\n",
              "      <th>yuri</th>\n",
              "      <th>samurai</th>\n",
              "      <th>sports</th>\n",
              "      <th>supernatural</th>\n",
              "      <th>mystery</th>\n",
              "      <th>magic</th>\n",
              "      <th>...</th>\n",
              "      <th>comedy</th>\n",
              "      <th>josei</th>\n",
              "      <th>of</th>\n",
              "      <th>school</th>\n",
              "      <th>power</th>\n",
              "      <th>parody</th>\n",
              "      <th>kids</th>\n",
              "      <th>ai</th>\n",
              "      <th>slice</th>\n",
              "      <th>game</th>\n",
              "    </tr>\n",
              "    <tr>\n",
              "      <th>name</th>\n",
              "      <th></th>\n",
              "      <th></th>\n",
              "      <th></th>\n",
              "      <th></th>\n",
              "      <th></th>\n",
              "      <th></th>\n",
              "      <th></th>\n",
              "      <th></th>\n",
              "      <th></th>\n",
              "      <th></th>\n",
              "      <th></th>\n",
              "      <th></th>\n",
              "      <th></th>\n",
              "      <th></th>\n",
              "      <th></th>\n",
              "      <th></th>\n",
              "      <th></th>\n",
              "      <th></th>\n",
              "      <th></th>\n",
              "      <th></th>\n",
              "      <th></th>\n",
              "    </tr>\n",
              "  </thead>\n",
              "  <tbody>\n",
              "    <tr>\n",
              "      <th>Detective Conan: Black History 2</th>\n",
              "      <td>0.0</td>\n",
              "      <td>0.0</td>\n",
              "      <td>0.0</td>\n",
              "      <td>0.0</td>\n",
              "      <td>0.0</td>\n",
              "      <td>0.0</td>\n",
              "      <td>0.0</td>\n",
              "      <td>0.0</td>\n",
              "      <td>0.528787</td>\n",
              "      <td>0.000000</td>\n",
              "      <td>...</td>\n",
              "      <td>0.247002</td>\n",
              "      <td>0.0</td>\n",
              "      <td>0.0</td>\n",
              "      <td>0.0</td>\n",
              "      <td>0.0</td>\n",
              "      <td>0.000000</td>\n",
              "      <td>0.0</td>\n",
              "      <td>0.0</td>\n",
              "      <td>0.0</td>\n",
              "      <td>0.0</td>\n",
              "    </tr>\n",
              "    <tr>\n",
              "      <th>Slayers Try</th>\n",
              "      <td>0.0</td>\n",
              "      <td>0.0</td>\n",
              "      <td>0.0</td>\n",
              "      <td>0.0</td>\n",
              "      <td>0.0</td>\n",
              "      <td>0.0</td>\n",
              "      <td>0.0</td>\n",
              "      <td>0.0</td>\n",
              "      <td>0.000000</td>\n",
              "      <td>0.474818</td>\n",
              "      <td>...</td>\n",
              "      <td>0.247115</td>\n",
              "      <td>0.0</td>\n",
              "      <td>0.0</td>\n",
              "      <td>0.0</td>\n",
              "      <td>0.0</td>\n",
              "      <td>0.000000</td>\n",
              "      <td>0.0</td>\n",
              "      <td>0.0</td>\n",
              "      <td>0.0</td>\n",
              "      <td>0.0</td>\n",
              "    </tr>\n",
              "    <tr>\n",
              "      <th>Hello Kitty no Minna no Mori wo Mamore!</th>\n",
              "      <td>0.0</td>\n",
              "      <td>0.0</td>\n",
              "      <td>0.0</td>\n",
              "      <td>0.0</td>\n",
              "      <td>0.0</td>\n",
              "      <td>0.0</td>\n",
              "      <td>0.0</td>\n",
              "      <td>0.0</td>\n",
              "      <td>0.000000</td>\n",
              "      <td>0.000000</td>\n",
              "      <td>...</td>\n",
              "      <td>0.000000</td>\n",
              "      <td>0.0</td>\n",
              "      <td>0.0</td>\n",
              "      <td>0.0</td>\n",
              "      <td>0.0</td>\n",
              "      <td>0.000000</td>\n",
              "      <td>1.0</td>\n",
              "      <td>0.0</td>\n",
              "      <td>0.0</td>\n",
              "      <td>0.0</td>\n",
              "    </tr>\n",
              "    <tr>\n",
              "      <th>Chinyuuki: Tarou to Yukai na Nakama-tachi</th>\n",
              "      <td>0.0</td>\n",
              "      <td>0.0</td>\n",
              "      <td>0.0</td>\n",
              "      <td>0.0</td>\n",
              "      <td>0.0</td>\n",
              "      <td>0.0</td>\n",
              "      <td>0.0</td>\n",
              "      <td>0.0</td>\n",
              "      <td>0.000000</td>\n",
              "      <td>0.000000</td>\n",
              "      <td>...</td>\n",
              "      <td>1.000000</td>\n",
              "      <td>0.0</td>\n",
              "      <td>0.0</td>\n",
              "      <td>0.0</td>\n",
              "      <td>0.0</td>\n",
              "      <td>0.000000</td>\n",
              "      <td>0.0</td>\n",
              "      <td>0.0</td>\n",
              "      <td>0.0</td>\n",
              "      <td>0.0</td>\n",
              "    </tr>\n",
              "    <tr>\n",
              "      <th>Mitsume ga Tooru</th>\n",
              "      <td>0.0</td>\n",
              "      <td>0.0</td>\n",
              "      <td>0.0</td>\n",
              "      <td>0.0</td>\n",
              "      <td>0.0</td>\n",
              "      <td>0.0</td>\n",
              "      <td>0.0</td>\n",
              "      <td>0.0</td>\n",
              "      <td>0.000000</td>\n",
              "      <td>0.000000</td>\n",
              "      <td>...</td>\n",
              "      <td>0.000000</td>\n",
              "      <td>0.0</td>\n",
              "      <td>0.0</td>\n",
              "      <td>0.0</td>\n",
              "      <td>0.0</td>\n",
              "      <td>0.000000</td>\n",
              "      <td>0.0</td>\n",
              "      <td>0.0</td>\n",
              "      <td>0.0</td>\n",
              "      <td>0.0</td>\n",
              "    </tr>\n",
              "    <tr>\n",
              "      <th>Detective Conan OVA 10: Kid in Trap Island</th>\n",
              "      <td>0.0</td>\n",
              "      <td>0.0</td>\n",
              "      <td>0.0</td>\n",
              "      <td>0.0</td>\n",
              "      <td>0.0</td>\n",
              "      <td>0.0</td>\n",
              "      <td>0.0</td>\n",
              "      <td>0.0</td>\n",
              "      <td>0.528787</td>\n",
              "      <td>0.000000</td>\n",
              "      <td>...</td>\n",
              "      <td>0.247002</td>\n",
              "      <td>0.0</td>\n",
              "      <td>0.0</td>\n",
              "      <td>0.0</td>\n",
              "      <td>0.0</td>\n",
              "      <td>0.000000</td>\n",
              "      <td>0.0</td>\n",
              "      <td>0.0</td>\n",
              "      <td>0.0</td>\n",
              "      <td>0.0</td>\n",
              "    </tr>\n",
              "    <tr>\n",
              "      <th>Arc the Lad</th>\n",
              "      <td>0.0</td>\n",
              "      <td>0.0</td>\n",
              "      <td>0.0</td>\n",
              "      <td>0.0</td>\n",
              "      <td>0.0</td>\n",
              "      <td>0.0</td>\n",
              "      <td>0.0</td>\n",
              "      <td>0.0</td>\n",
              "      <td>0.000000</td>\n",
              "      <td>0.000000</td>\n",
              "      <td>...</td>\n",
              "      <td>0.000000</td>\n",
              "      <td>0.0</td>\n",
              "      <td>0.0</td>\n",
              "      <td>0.0</td>\n",
              "      <td>0.0</td>\n",
              "      <td>0.000000</td>\n",
              "      <td>0.0</td>\n",
              "      <td>0.0</td>\n",
              "      <td>0.0</td>\n",
              "      <td>0.0</td>\n",
              "    </tr>\n",
              "    <tr>\n",
              "      <th>Kuroshitsuji Special</th>\n",
              "      <td>0.0</td>\n",
              "      <td>0.0</td>\n",
              "      <td>0.0</td>\n",
              "      <td>0.0</td>\n",
              "      <td>0.0</td>\n",
              "      <td>0.0</td>\n",
              "      <td>0.0</td>\n",
              "      <td>0.0</td>\n",
              "      <td>0.000000</td>\n",
              "      <td>0.000000</td>\n",
              "      <td>...</td>\n",
              "      <td>0.291256</td>\n",
              "      <td>0.0</td>\n",
              "      <td>0.0</td>\n",
              "      <td>0.0</td>\n",
              "      <td>0.0</td>\n",
              "      <td>0.650909</td>\n",
              "      <td>0.0</td>\n",
              "      <td>0.0</td>\n",
              "      <td>0.0</td>\n",
              "      <td>0.0</td>\n",
              "    </tr>\n",
              "    <tr>\n",
              "      <th>Choegang Habche: Mix Master</th>\n",
              "      <td>0.0</td>\n",
              "      <td>0.0</td>\n",
              "      <td>0.0</td>\n",
              "      <td>0.0</td>\n",
              "      <td>0.0</td>\n",
              "      <td>0.0</td>\n",
              "      <td>0.0</td>\n",
              "      <td>0.0</td>\n",
              "      <td>0.000000</td>\n",
              "      <td>0.000000</td>\n",
              "      <td>...</td>\n",
              "      <td>0.000000</td>\n",
              "      <td>0.0</td>\n",
              "      <td>0.0</td>\n",
              "      <td>0.0</td>\n",
              "      <td>0.0</td>\n",
              "      <td>0.000000</td>\n",
              "      <td>0.0</td>\n",
              "      <td>0.0</td>\n",
              "      <td>0.0</td>\n",
              "      <td>0.0</td>\n",
              "    </tr>\n",
              "    <tr>\n",
              "      <th>Ozma</th>\n",
              "      <td>0.0</td>\n",
              "      <td>0.0</td>\n",
              "      <td>0.0</td>\n",
              "      <td>0.0</td>\n",
              "      <td>0.0</td>\n",
              "      <td>0.0</td>\n",
              "      <td>0.0</td>\n",
              "      <td>0.0</td>\n",
              "      <td>0.000000</td>\n",
              "      <td>0.000000</td>\n",
              "      <td>...</td>\n",
              "      <td>0.000000</td>\n",
              "      <td>0.0</td>\n",
              "      <td>0.0</td>\n",
              "      <td>0.0</td>\n",
              "      <td>0.0</td>\n",
              "      <td>0.000000</td>\n",
              "      <td>0.0</td>\n",
              "      <td>0.0</td>\n",
              "      <td>0.0</td>\n",
              "      <td>0.0</td>\n",
              "    </tr>\n",
              "  </tbody>\n",
              "</table>\n",
              "<p>10 rows × 22 columns</p>\n",
              "</div>\n",
              "      <button class=\"colab-df-convert\" onclick=\"convertToInteractive('df-c25e4a6a-8ff7-4f5a-b3f6-aa3d23434102')\"\n",
              "              title=\"Convert this dataframe to an interactive table.\"\n",
              "              style=\"display:none;\">\n",
              "        \n",
              "  <svg xmlns=\"http://www.w3.org/2000/svg\" height=\"24px\"viewBox=\"0 0 24 24\"\n",
              "       width=\"24px\">\n",
              "    <path d=\"M0 0h24v24H0V0z\" fill=\"none\"/>\n",
              "    <path d=\"M18.56 5.44l.94 2.06.94-2.06 2.06-.94-2.06-.94-.94-2.06-.94 2.06-2.06.94zm-11 1L8.5 8.5l.94-2.06 2.06-.94-2.06-.94L8.5 2.5l-.94 2.06-2.06.94zm10 10l.94 2.06.94-2.06 2.06-.94-2.06-.94-.94-2.06-.94 2.06-2.06.94z\"/><path d=\"M17.41 7.96l-1.37-1.37c-.4-.4-.92-.59-1.43-.59-.52 0-1.04.2-1.43.59L10.3 9.45l-7.72 7.72c-.78.78-.78 2.05 0 2.83L4 21.41c.39.39.9.59 1.41.59.51 0 1.02-.2 1.41-.59l7.78-7.78 2.81-2.81c.8-.78.8-2.07 0-2.86zM5.41 20L4 18.59l7.72-7.72 1.47 1.35L5.41 20z\"/>\n",
              "  </svg>\n",
              "      </button>\n",
              "      \n",
              "  <style>\n",
              "    .colab-df-container {\n",
              "      display:flex;\n",
              "      flex-wrap:wrap;\n",
              "      gap: 12px;\n",
              "    }\n",
              "\n",
              "    .colab-df-convert {\n",
              "      background-color: #E8F0FE;\n",
              "      border: none;\n",
              "      border-radius: 50%;\n",
              "      cursor: pointer;\n",
              "      display: none;\n",
              "      fill: #1967D2;\n",
              "      height: 32px;\n",
              "      padding: 0 0 0 0;\n",
              "      width: 32px;\n",
              "    }\n",
              "\n",
              "    .colab-df-convert:hover {\n",
              "      background-color: #E2EBFA;\n",
              "      box-shadow: 0px 1px 2px rgba(60, 64, 67, 0.3), 0px 1px 3px 1px rgba(60, 64, 67, 0.15);\n",
              "      fill: #174EA6;\n",
              "    }\n",
              "\n",
              "    [theme=dark] .colab-df-convert {\n",
              "      background-color: #3B4455;\n",
              "      fill: #D2E3FC;\n",
              "    }\n",
              "\n",
              "    [theme=dark] .colab-df-convert:hover {\n",
              "      background-color: #434B5C;\n",
              "      box-shadow: 0px 1px 3px 1px rgba(0, 0, 0, 0.15);\n",
              "      filter: drop-shadow(0px 1px 2px rgba(0, 0, 0, 0.3));\n",
              "      fill: #FFFFFF;\n",
              "    }\n",
              "  </style>\n",
              "\n",
              "      <script>\n",
              "        const buttonEl =\n",
              "          document.querySelector('#df-c25e4a6a-8ff7-4f5a-b3f6-aa3d23434102 button.colab-df-convert');\n",
              "        buttonEl.style.display =\n",
              "          google.colab.kernel.accessAllowed ? 'block' : 'none';\n",
              "\n",
              "        async function convertToInteractive(key) {\n",
              "          const element = document.querySelector('#df-c25e4a6a-8ff7-4f5a-b3f6-aa3d23434102');\n",
              "          const dataTable =\n",
              "            await google.colab.kernel.invokeFunction('convertToInteractive',\n",
              "                                                     [key], {});\n",
              "          if (!dataTable) return;\n",
              "\n",
              "          const docLinkHtml = 'Like what you see? Visit the ' +\n",
              "            '<a target=\"_blank\" href=https://colab.research.google.com/notebooks/data_table.ipynb>data table notebook</a>'\n",
              "            + ' to learn more about interactive tables.';\n",
              "          element.innerHTML = '';\n",
              "          dataTable['output_type'] = 'display_data';\n",
              "          await google.colab.output.renderOutput(dataTable, element);\n",
              "          const docLink = document.createElement('div');\n",
              "          docLink.innerHTML = docLinkHtml;\n",
              "          element.appendChild(docLink);\n",
              "        }\n",
              "      </script>\n",
              "    </div>\n",
              "  </div>\n",
              "  "
            ]
          },
          "metadata": {},
          "execution_count": 88
        }
      ]
    },
    {
      "cell_type": "code",
      "source": [
        "cosine_sim = cosine_similarity(tfidf_matrix)\n",
        "cosine_sim"
      ],
      "metadata": {
        "colab": {
          "base_uri": "https://localhost:8080/"
        },
        "id": "YyWXOQQUeO8V",
        "outputId": "a30c8bff-e581-41e0-e5ed-82f801204518"
      },
      "execution_count": null,
      "outputs": [
        {
          "output_type": "execute_result",
          "data": {
            "text/plain": [
              "array([[1.        , 0.14715318, 0.        , ..., 0.        , 0.        ,\n",
              "        0.        ],\n",
              "       [0.14715318, 1.        , 0.17877808, ..., 0.        , 0.        ,\n",
              "        0.        ],\n",
              "       [0.        , 0.17877808, 1.        , ..., 0.        , 0.        ,\n",
              "        0.        ],\n",
              "       ...,\n",
              "       [0.        , 0.        , 0.        , ..., 1.        , 1.        ,\n",
              "        1.        ],\n",
              "       [0.        , 0.        , 0.        , ..., 1.        , 1.        ,\n",
              "        1.        ],\n",
              "       [0.        , 0.        , 0.        , ..., 1.        , 1.        ,\n",
              "        1.        ]])"
            ]
          },
          "metadata": {},
          "execution_count": 89
        }
      ]
    },
    {
      "cell_type": "code",
      "source": [
        "cosine_sim_df = pd.DataFrame(cosine_sim, index=animes['name'], columns=animes['name'])"
      ],
      "metadata": {
        "id": "kTCFIm7me_3-"
      },
      "execution_count": null,
      "outputs": []
    },
    {
      "cell_type": "code",
      "source": [
        "cosine_sim_df.sample(5, axis=1).sample(10, axis=0)"
      ],
      "metadata": {
        "colab": {
          "base_uri": "https://localhost:8080/",
          "height": 595
        },
        "id": "6FjNyaLCe_1q",
        "outputId": "c9532ced-5fb5-4324-d4b2-da75e442196a"
      },
      "execution_count": null,
      "outputs": [
        {
          "output_type": "execute_result",
          "data": {
            "text/plain": [
              "name                                           Kyoukai no Kanata Movie: I&#039;ll Be Here - Kako-hen - Yakusoku no Kizuna  \\\n",
              "name                                                                                                                        \n",
              "Ginga Eiyuu Densetsu Gaiden: Ougon no Tsubasa                                                0.0                            \n",
              "&quot;Bungaku Shoujo&quot; Memoire                                                           0.0                            \n",
              "Kyouhaku: Owaranai Ashita                                                                    0.0                            \n",
              "Time Bokan Series: Yatterman                                                                 0.0                            \n",
              "Lovely Series                                                                                0.0                            \n",
              "Kore wa Zombie Desu ka? OVA                                                                  0.0                            \n",
              "Kakomareta Sekai                                                                             0.0                            \n",
              "Surprise 4 U.                                                                                0.0                            \n",
              "Shintaisou: Shin                                                                             0.0                            \n",
              "Waver                                                                                        0.0                            \n",
              "\n",
              "name                                           Kero Kero Keroppi no Aladdin to Mahou no Lamp  \\\n",
              "name                                                                                           \n",
              "Ginga Eiyuu Densetsu Gaiden: Ougon no Tsubasa                                            0.0   \n",
              "&quot;Bungaku Shoujo&quot; Memoire                                                       0.0   \n",
              "Kyouhaku: Owaranai Ashita                                                                0.0   \n",
              "Time Bokan Series: Yatterman                                                             0.0   \n",
              "Lovely Series                                                                            0.0   \n",
              "Kore wa Zombie Desu ka? OVA                                                              0.0   \n",
              "Kakomareta Sekai                                                                         0.0   \n",
              "Surprise 4 U.                                                                            0.0   \n",
              "Shintaisou: Shin                                                                         0.0   \n",
              "Waver                                                                                    0.0   \n",
              "\n",
              "name                                           Dear Boys  \\\n",
              "name                                                       \n",
              "Ginga Eiyuu Densetsu Gaiden: Ougon no Tsubasa   0.324752   \n",
              "&quot;Bungaku Shoujo&quot; Memoire              0.254292   \n",
              "Kyouhaku: Owaranai Ashita                       0.000000   \n",
              "Time Bokan Series: Yatterman                    0.000000   \n",
              "Lovely Series                                   0.000000   \n",
              "Kore wa Zombie Desu ka? OVA                     0.000000   \n",
              "Kakomareta Sekai                                0.485479   \n",
              "Surprise 4 U.                                   0.712168   \n",
              "Shintaisou: Shin                                0.000000   \n",
              "Waver                                           0.000000   \n",
              "\n",
              "name                                           Soushisouai Note The Animation  \\\n",
              "name                                                                            \n",
              "Ginga Eiyuu Densetsu Gaiden: Ougon no Tsubasa                        0.000000   \n",
              "&quot;Bungaku Shoujo&quot; Memoire                                   0.000000   \n",
              "Kyouhaku: Owaranai Ashita                                            1.000000   \n",
              "Time Bokan Series: Yatterman                                         0.000000   \n",
              "Lovely Series                                                        1.000000   \n",
              "Kore wa Zombie Desu ka? OVA                                          0.000000   \n",
              "Kakomareta Sekai                                                     0.000000   \n",
              "Surprise 4 U.                                                        0.000000   \n",
              "Shintaisou: Shin                                                     0.711033   \n",
              "Waver                                                                1.000000   \n",
              "\n",
              "name                                           Okusama wa Mahoutsukai  \n",
              "name                                                                   \n",
              "Ginga Eiyuu Densetsu Gaiden: Ougon no Tsubasa                0.000000  \n",
              "&quot;Bungaku Shoujo&quot; Memoire                           0.000000  \n",
              "Kyouhaku: Owaranai Ashita                                    1.000000  \n",
              "Time Bokan Series: Yatterman                                 0.000000  \n",
              "Lovely Series                                                1.000000  \n",
              "Kore wa Zombie Desu ka? OVA                                  0.000000  \n",
              "Kakomareta Sekai                                             0.000000  \n",
              "Surprise 4 U.                                                0.000000  \n",
              "Shintaisou: Shin                                             0.711033  \n",
              "Waver                                                        1.000000  "
            ],
            "text/html": [
              "\n",
              "  <div id=\"df-50dba1d4-c579-403d-860f-17cbc438e536\">\n",
              "    <div class=\"colab-df-container\">\n",
              "      <div>\n",
              "<style scoped>\n",
              "    .dataframe tbody tr th:only-of-type {\n",
              "        vertical-align: middle;\n",
              "    }\n",
              "\n",
              "    .dataframe tbody tr th {\n",
              "        vertical-align: top;\n",
              "    }\n",
              "\n",
              "    .dataframe thead th {\n",
              "        text-align: right;\n",
              "    }\n",
              "</style>\n",
              "<table border=\"1\" class=\"dataframe\">\n",
              "  <thead>\n",
              "    <tr style=\"text-align: right;\">\n",
              "      <th>name</th>\n",
              "      <th>Kyoukai no Kanata Movie: I&amp;#039;ll Be Here - Kako-hen - Yakusoku no Kizuna</th>\n",
              "      <th>Kero Kero Keroppi no Aladdin to Mahou no Lamp</th>\n",
              "      <th>Dear Boys</th>\n",
              "      <th>Soushisouai Note The Animation</th>\n",
              "      <th>Okusama wa Mahoutsukai</th>\n",
              "    </tr>\n",
              "    <tr>\n",
              "      <th>name</th>\n",
              "      <th></th>\n",
              "      <th></th>\n",
              "      <th></th>\n",
              "      <th></th>\n",
              "      <th></th>\n",
              "    </tr>\n",
              "  </thead>\n",
              "  <tbody>\n",
              "    <tr>\n",
              "      <th>Ginga Eiyuu Densetsu Gaiden: Ougon no Tsubasa</th>\n",
              "      <td>0.0</td>\n",
              "      <td>0.0</td>\n",
              "      <td>0.324752</td>\n",
              "      <td>0.000000</td>\n",
              "      <td>0.000000</td>\n",
              "    </tr>\n",
              "    <tr>\n",
              "      <th>&amp;quot;Bungaku Shoujo&amp;quot; Memoire</th>\n",
              "      <td>0.0</td>\n",
              "      <td>0.0</td>\n",
              "      <td>0.254292</td>\n",
              "      <td>0.000000</td>\n",
              "      <td>0.000000</td>\n",
              "    </tr>\n",
              "    <tr>\n",
              "      <th>Kyouhaku: Owaranai Ashita</th>\n",
              "      <td>0.0</td>\n",
              "      <td>0.0</td>\n",
              "      <td>0.000000</td>\n",
              "      <td>1.000000</td>\n",
              "      <td>1.000000</td>\n",
              "    </tr>\n",
              "    <tr>\n",
              "      <th>Time Bokan Series: Yatterman</th>\n",
              "      <td>0.0</td>\n",
              "      <td>0.0</td>\n",
              "      <td>0.000000</td>\n",
              "      <td>0.000000</td>\n",
              "      <td>0.000000</td>\n",
              "    </tr>\n",
              "    <tr>\n",
              "      <th>Lovely Series</th>\n",
              "      <td>0.0</td>\n",
              "      <td>0.0</td>\n",
              "      <td>0.000000</td>\n",
              "      <td>1.000000</td>\n",
              "      <td>1.000000</td>\n",
              "    </tr>\n",
              "    <tr>\n",
              "      <th>Kore wa Zombie Desu ka? OVA</th>\n",
              "      <td>0.0</td>\n",
              "      <td>0.0</td>\n",
              "      <td>0.000000</td>\n",
              "      <td>0.000000</td>\n",
              "      <td>0.000000</td>\n",
              "    </tr>\n",
              "    <tr>\n",
              "      <th>Kakomareta Sekai</th>\n",
              "      <td>0.0</td>\n",
              "      <td>0.0</td>\n",
              "      <td>0.485479</td>\n",
              "      <td>0.000000</td>\n",
              "      <td>0.000000</td>\n",
              "    </tr>\n",
              "    <tr>\n",
              "      <th>Surprise 4 U.</th>\n",
              "      <td>0.0</td>\n",
              "      <td>0.0</td>\n",
              "      <td>0.712168</td>\n",
              "      <td>0.000000</td>\n",
              "      <td>0.000000</td>\n",
              "    </tr>\n",
              "    <tr>\n",
              "      <th>Shintaisou: Shin</th>\n",
              "      <td>0.0</td>\n",
              "      <td>0.0</td>\n",
              "      <td>0.000000</td>\n",
              "      <td>0.711033</td>\n",
              "      <td>0.711033</td>\n",
              "    </tr>\n",
              "    <tr>\n",
              "      <th>Waver</th>\n",
              "      <td>0.0</td>\n",
              "      <td>0.0</td>\n",
              "      <td>0.000000</td>\n",
              "      <td>1.000000</td>\n",
              "      <td>1.000000</td>\n",
              "    </tr>\n",
              "  </tbody>\n",
              "</table>\n",
              "</div>\n",
              "      <button class=\"colab-df-convert\" onclick=\"convertToInteractive('df-50dba1d4-c579-403d-860f-17cbc438e536')\"\n",
              "              title=\"Convert this dataframe to an interactive table.\"\n",
              "              style=\"display:none;\">\n",
              "        \n",
              "  <svg xmlns=\"http://www.w3.org/2000/svg\" height=\"24px\"viewBox=\"0 0 24 24\"\n",
              "       width=\"24px\">\n",
              "    <path d=\"M0 0h24v24H0V0z\" fill=\"none\"/>\n",
              "    <path d=\"M18.56 5.44l.94 2.06.94-2.06 2.06-.94-2.06-.94-.94-2.06-.94 2.06-2.06.94zm-11 1L8.5 8.5l.94-2.06 2.06-.94-2.06-.94L8.5 2.5l-.94 2.06-2.06.94zm10 10l.94 2.06.94-2.06 2.06-.94-2.06-.94-.94-2.06-.94 2.06-2.06.94z\"/><path d=\"M17.41 7.96l-1.37-1.37c-.4-.4-.92-.59-1.43-.59-.52 0-1.04.2-1.43.59L10.3 9.45l-7.72 7.72c-.78.78-.78 2.05 0 2.83L4 21.41c.39.39.9.59 1.41.59.51 0 1.02-.2 1.41-.59l7.78-7.78 2.81-2.81c.8-.78.8-2.07 0-2.86zM5.41 20L4 18.59l7.72-7.72 1.47 1.35L5.41 20z\"/>\n",
              "  </svg>\n",
              "      </button>\n",
              "      \n",
              "  <style>\n",
              "    .colab-df-container {\n",
              "      display:flex;\n",
              "      flex-wrap:wrap;\n",
              "      gap: 12px;\n",
              "    }\n",
              "\n",
              "    .colab-df-convert {\n",
              "      background-color: #E8F0FE;\n",
              "      border: none;\n",
              "      border-radius: 50%;\n",
              "      cursor: pointer;\n",
              "      display: none;\n",
              "      fill: #1967D2;\n",
              "      height: 32px;\n",
              "      padding: 0 0 0 0;\n",
              "      width: 32px;\n",
              "    }\n",
              "\n",
              "    .colab-df-convert:hover {\n",
              "      background-color: #E2EBFA;\n",
              "      box-shadow: 0px 1px 2px rgba(60, 64, 67, 0.3), 0px 1px 3px 1px rgba(60, 64, 67, 0.15);\n",
              "      fill: #174EA6;\n",
              "    }\n",
              "\n",
              "    [theme=dark] .colab-df-convert {\n",
              "      background-color: #3B4455;\n",
              "      fill: #D2E3FC;\n",
              "    }\n",
              "\n",
              "    [theme=dark] .colab-df-convert:hover {\n",
              "      background-color: #434B5C;\n",
              "      box-shadow: 0px 1px 3px 1px rgba(0, 0, 0, 0.15);\n",
              "      filter: drop-shadow(0px 1px 2px rgba(0, 0, 0, 0.3));\n",
              "      fill: #FFFFFF;\n",
              "    }\n",
              "  </style>\n",
              "\n",
              "      <script>\n",
              "        const buttonEl =\n",
              "          document.querySelector('#df-50dba1d4-c579-403d-860f-17cbc438e536 button.colab-df-convert');\n",
              "        buttonEl.style.display =\n",
              "          google.colab.kernel.accessAllowed ? 'block' : 'none';\n",
              "\n",
              "        async function convertToInteractive(key) {\n",
              "          const element = document.querySelector('#df-50dba1d4-c579-403d-860f-17cbc438e536');\n",
              "          const dataTable =\n",
              "            await google.colab.kernel.invokeFunction('convertToInteractive',\n",
              "                                                     [key], {});\n",
              "          if (!dataTable) return;\n",
              "\n",
              "          const docLinkHtml = 'Like what you see? Visit the ' +\n",
              "            '<a target=\"_blank\" href=https://colab.research.google.com/notebooks/data_table.ipynb>data table notebook</a>'\n",
              "            + ' to learn more about interactive tables.';\n",
              "          element.innerHTML = '';\n",
              "          dataTable['output_type'] = 'display_data';\n",
              "          await google.colab.output.renderOutput(dataTable, element);\n",
              "          const docLink = document.createElement('div');\n",
              "          docLink.innerHTML = docLinkHtml;\n",
              "          element.appendChild(docLink);\n",
              "        }\n",
              "      </script>\n",
              "    </div>\n",
              "  </div>\n",
              "  "
            ]
          },
          "metadata": {},
          "execution_count": 91
        }
      ]
    },
    {
      "cell_type": "code",
      "source": [
        "cosine_sim_df"
      ],
      "metadata": {
        "colab": {
          "base_uri": "https://localhost:8080/",
          "height": 849
        },
        "id": "2OCgHJLd81wL",
        "outputId": "266fc728-e51d-4a62-d7d2-2a6fe04a15bb"
      },
      "execution_count": null,
      "outputs": [
        {
          "output_type": "execute_result",
          "data": {
            "text/plain": [
              "name                                                Kimi no Na wa.  \\\n",
              "name                                                                 \n",
              "Kimi no Na wa.                                            1.000000   \n",
              "Fullmetal Alchemist: Brotherhood                          0.147153   \n",
              "Gintama°                                                  0.000000   \n",
              "Steins;Gate                                               0.000000   \n",
              "Gintama&#039;                                             0.000000   \n",
              "...                                                            ...   \n",
              "Toushindai My Lover: Minami tai Mecha-Minami              0.000000   \n",
              "Under World                                               0.000000   \n",
              "Violence Gekiga David no Hoshi                            0.000000   \n",
              "Violence Gekiga Shin David no Hoshi: Inma Densetsu        0.000000   \n",
              "Yasuji no Pornorama: Yacchimae!!                          0.000000   \n",
              "\n",
              "name                                                Fullmetal Alchemist: Brotherhood  \\\n",
              "name                                                                                   \n",
              "Kimi no Na wa.                                                              0.147153   \n",
              "Fullmetal Alchemist: Brotherhood                                            1.000000   \n",
              "Gintama°                                                                    0.178778   \n",
              "Steins;Gate                                                                 0.000000   \n",
              "Gintama&#039;                                                               0.178778   \n",
              "...                                                                              ...   \n",
              "Toushindai My Lover: Minami tai Mecha-Minami                                0.000000   \n",
              "Under World                                                                 0.000000   \n",
              "Violence Gekiga David no Hoshi                                              0.000000   \n",
              "Violence Gekiga Shin David no Hoshi: Inma Densetsu                          0.000000   \n",
              "Yasuji no Pornorama: Yacchimae!!                                            0.000000   \n",
              "\n",
              "name                                                Gintama°  Steins;Gate  \\\n",
              "name                                                                        \n",
              "Kimi no Na wa.                                      0.000000     0.000000   \n",
              "Fullmetal Alchemist: Brotherhood                    0.178778     0.000000   \n",
              "Gintama°                                            1.000000     0.220855   \n",
              "Steins;Gate                                         0.220855     1.000000   \n",
              "Gintama&#039;                                       1.000000     0.220855   \n",
              "...                                                      ...          ...   \n",
              "Toushindai My Lover: Minami tai Mecha-Minami        0.000000     0.000000   \n",
              "Under World                                         0.000000     0.000000   \n",
              "Violence Gekiga David no Hoshi                      0.000000     0.000000   \n",
              "Violence Gekiga Shin David no Hoshi: Inma Densetsu  0.000000     0.000000   \n",
              "Yasuji no Pornorama: Yacchimae!!                    0.000000     0.000000   \n",
              "\n",
              "name                                                Gintama&#039;  \\\n",
              "name                                                                \n",
              "Kimi no Na wa.                                           0.000000   \n",
              "Fullmetal Alchemist: Brotherhood                         0.178778   \n",
              "Gintama°                                                 1.000000   \n",
              "Steins;Gate                                              0.220855   \n",
              "Gintama&#039;                                            1.000000   \n",
              "...                                                           ...   \n",
              "Toushindai My Lover: Minami tai Mecha-Minami             0.000000   \n",
              "Under World                                              0.000000   \n",
              "Violence Gekiga David no Hoshi                           0.000000   \n",
              "Violence Gekiga Shin David no Hoshi: Inma Densetsu       0.000000   \n",
              "Yasuji no Pornorama: Yacchimae!!                         0.000000   \n",
              "\n",
              "name                                                Haikyuu!!: Karasuno Koukou VS Shiratorizawa Gakuen Koukou  \\\n",
              "name                                                                                                            \n",
              "Kimi no Na wa.                                                                               0.426050           \n",
              "Fullmetal Alchemist: Brotherhood                                                             0.282882           \n",
              "Gintama°                                                                                     0.182588           \n",
              "Steins;Gate                                                                                  0.000000           \n",
              "Gintama&#039;                                                                                0.182588           \n",
              "...                                                                                               ...           \n",
              "Toushindai My Lover: Minami tai Mecha-Minami                                                 0.000000           \n",
              "Under World                                                                                  0.000000           \n",
              "Violence Gekiga David no Hoshi                                                               0.000000           \n",
              "Violence Gekiga Shin David no Hoshi: Inma Densetsu                                           0.000000           \n",
              "Yasuji no Pornorama: Yacchimae!!                                                             0.000000           \n",
              "\n",
              "name                                                Hunter x Hunter (2011)  \\\n",
              "name                                                                         \n",
              "Kimi no Na wa.                                                    0.000000   \n",
              "Fullmetal Alchemist: Brotherhood                                  0.339213   \n",
              "Gintama°                                                          0.195860   \n",
              "Steins;Gate                                                       0.000000   \n",
              "Gintama&#039;                                                     0.195860   \n",
              "...                                                                    ...   \n",
              "Toushindai My Lover: Minami tai Mecha-Minami                      0.000000   \n",
              "Under World                                                       0.000000   \n",
              "Violence Gekiga David no Hoshi                                    0.000000   \n",
              "Violence Gekiga Shin David no Hoshi: Inma Densetsu                0.000000   \n",
              "Yasuji no Pornorama: Yacchimae!!                                  0.000000   \n",
              "\n",
              "name                                                Ginga Eiyuu Densetsu  \\\n",
              "name                                                                       \n",
              "Kimi no Na wa.                                                  0.156140   \n",
              "Fullmetal Alchemist: Brotherhood                                0.407534   \n",
              "Gintama°                                                        0.199140   \n",
              "Steins;Gate                                                     0.274732   \n",
              "Gintama&#039;                                                   0.199140   \n",
              "...                                                                  ...   \n",
              "Toushindai My Lover: Minami tai Mecha-Minami                    0.000000   \n",
              "Under World                                                     0.000000   \n",
              "Violence Gekiga David no Hoshi                                  0.000000   \n",
              "Violence Gekiga Shin David no Hoshi: Inma Densetsu              0.000000   \n",
              "Yasuji no Pornorama: Yacchimae!!                                0.000000   \n",
              "\n",
              "name                                                Gintama Movie: Kanketsu-hen - Yorozuya yo Eien Nare  \\\n",
              "name                                                                                                      \n",
              "Kimi no Na wa.                                                                               0.000000     \n",
              "Fullmetal Alchemist: Brotherhood                                                             0.178778     \n",
              "Gintama°                                                                                     1.000000     \n",
              "Steins;Gate                                                                                  0.220855     \n",
              "Gintama&#039;                                                                                1.000000     \n",
              "...                                                                                               ...     \n",
              "Toushindai My Lover: Minami tai Mecha-Minami                                                 0.000000     \n",
              "Under World                                                                                  0.000000     \n",
              "Violence Gekiga David no Hoshi                                                               0.000000     \n",
              "Violence Gekiga Shin David no Hoshi: Inma Densetsu                                           0.000000     \n",
              "Yasuji no Pornorama: Yacchimae!!                                                             0.000000     \n",
              "\n",
              "name                                                Gintama&#039;: Enchousen  \\\n",
              "name                                                                           \n",
              "Kimi no Na wa.                                                      0.000000   \n",
              "Fullmetal Alchemist: Brotherhood                                    0.178778   \n",
              "Gintama°                                                            1.000000   \n",
              "Steins;Gate                                                         0.220855   \n",
              "Gintama&#039;                                                       1.000000   \n",
              "...                                                                      ...   \n",
              "Toushindai My Lover: Minami tai Mecha-Minami                        0.000000   \n",
              "Under World                                                         0.000000   \n",
              "Violence Gekiga David no Hoshi                                      0.000000   \n",
              "Violence Gekiga Shin David no Hoshi: Inma Densetsu                  0.000000   \n",
              "Yasuji no Pornorama: Yacchimae!!                                    0.000000   \n",
              "\n",
              "name                                                ...  Silent Chaser Kagami  \\\n",
              "name                                                ...                         \n",
              "Kimi no Na wa.                                      ...                   0.0   \n",
              "Fullmetal Alchemist: Brotherhood                    ...                   0.0   \n",
              "Gintama°                                            ...                   0.0   \n",
              "Steins;Gate                                         ...                   0.0   \n",
              "Gintama&#039;                                       ...                   0.0   \n",
              "...                                                 ...                   ...   \n",
              "Toushindai My Lover: Minami tai Mecha-Minami        ...                   1.0   \n",
              "Under World                                         ...                   1.0   \n",
              "Violence Gekiga David no Hoshi                      ...                   1.0   \n",
              "Violence Gekiga Shin David no Hoshi: Inma Densetsu  ...                   1.0   \n",
              "Yasuji no Pornorama: Yacchimae!!                    ...                   1.0   \n",
              "\n",
              "name                                                Super Erotic Anime  \\\n",
              "name                                                                     \n",
              "Kimi no Na wa.                                                     0.0   \n",
              "Fullmetal Alchemist: Brotherhood                                   0.0   \n",
              "Gintama°                                                           0.0   \n",
              "Steins;Gate                                                        0.0   \n",
              "Gintama&#039;                                                      0.0   \n",
              "...                                                                ...   \n",
              "Toushindai My Lover: Minami tai Mecha-Minami                       1.0   \n",
              "Under World                                                        1.0   \n",
              "Violence Gekiga David no Hoshi                                     1.0   \n",
              "Violence Gekiga Shin David no Hoshi: Inma Densetsu                 1.0   \n",
              "Yasuji no Pornorama: Yacchimae!!                                   1.0   \n",
              "\n",
              "name                                                Teleclub no Himitsu  \\\n",
              "name                                                                      \n",
              "Kimi no Na wa.                                                      0.0   \n",
              "Fullmetal Alchemist: Brotherhood                                    0.0   \n",
              "Gintama°                                                            0.0   \n",
              "Steins;Gate                                                         0.0   \n",
              "Gintama&#039;                                                       0.0   \n",
              "...                                                                 ...   \n",
              "Toushindai My Lover: Minami tai Mecha-Minami                        1.0   \n",
              "Under World                                                         1.0   \n",
              "Violence Gekiga David no Hoshi                                      1.0   \n",
              "Violence Gekiga Shin David no Hoshi: Inma Densetsu                  1.0   \n",
              "Yasuji no Pornorama: Yacchimae!!                                    1.0   \n",
              "\n",
              "name                                                Tenshi no Habataki Jun  \\\n",
              "name                                                                         \n",
              "Kimi no Na wa.                                                         0.0   \n",
              "Fullmetal Alchemist: Brotherhood                                       0.0   \n",
              "Gintama°                                                               0.0   \n",
              "Steins;Gate                                                            0.0   \n",
              "Gintama&#039;                                                          0.0   \n",
              "...                                                                    ...   \n",
              "Toushindai My Lover: Minami tai Mecha-Minami                           1.0   \n",
              "Under World                                                            1.0   \n",
              "Violence Gekiga David no Hoshi                                         1.0   \n",
              "Violence Gekiga Shin David no Hoshi: Inma Densetsu                     1.0   \n",
              "Yasuji no Pornorama: Yacchimae!!                                       1.0   \n",
              "\n",
              "name                                                The Satisfaction  \\\n",
              "name                                                                   \n",
              "Kimi no Na wa.                                                   0.0   \n",
              "Fullmetal Alchemist: Brotherhood                                 0.0   \n",
              "Gintama°                                                         0.0   \n",
              "Steins;Gate                                                      0.0   \n",
              "Gintama&#039;                                                    0.0   \n",
              "...                                                              ...   \n",
              "Toushindai My Lover: Minami tai Mecha-Minami                     1.0   \n",
              "Under World                                                      1.0   \n",
              "Violence Gekiga David no Hoshi                                   1.0   \n",
              "Violence Gekiga Shin David no Hoshi: Inma Densetsu               1.0   \n",
              "Yasuji no Pornorama: Yacchimae!!                                 1.0   \n",
              "\n",
              "name                                                Toushindai My Lover: Minami tai Mecha-Minami  \\\n",
              "name                                                                                               \n",
              "Kimi no Na wa.                                                                               0.0   \n",
              "Fullmetal Alchemist: Brotherhood                                                             0.0   \n",
              "Gintama°                                                                                     0.0   \n",
              "Steins;Gate                                                                                  0.0   \n",
              "Gintama&#039;                                                                                0.0   \n",
              "...                                                                                          ...   \n",
              "Toushindai My Lover: Minami tai Mecha-Minami                                                 1.0   \n",
              "Under World                                                                                  1.0   \n",
              "Violence Gekiga David no Hoshi                                                               1.0   \n",
              "Violence Gekiga Shin David no Hoshi: Inma Densetsu                                           1.0   \n",
              "Yasuji no Pornorama: Yacchimae!!                                                             1.0   \n",
              "\n",
              "name                                                Under World  \\\n",
              "name                                                              \n",
              "Kimi no Na wa.                                              0.0   \n",
              "Fullmetal Alchemist: Brotherhood                            0.0   \n",
              "Gintama°                                                    0.0   \n",
              "Steins;Gate                                                 0.0   \n",
              "Gintama&#039;                                               0.0   \n",
              "...                                                         ...   \n",
              "Toushindai My Lover: Minami tai Mecha-Minami                1.0   \n",
              "Under World                                                 1.0   \n",
              "Violence Gekiga David no Hoshi                              1.0   \n",
              "Violence Gekiga Shin David no Hoshi: Inma Densetsu          1.0   \n",
              "Yasuji no Pornorama: Yacchimae!!                            1.0   \n",
              "\n",
              "name                                                Violence Gekiga David no Hoshi  \\\n",
              "name                                                                                 \n",
              "Kimi no Na wa.                                                                 0.0   \n",
              "Fullmetal Alchemist: Brotherhood                                               0.0   \n",
              "Gintama°                                                                       0.0   \n",
              "Steins;Gate                                                                    0.0   \n",
              "Gintama&#039;                                                                  0.0   \n",
              "...                                                                            ...   \n",
              "Toushindai My Lover: Minami tai Mecha-Minami                                   1.0   \n",
              "Under World                                                                    1.0   \n",
              "Violence Gekiga David no Hoshi                                                 1.0   \n",
              "Violence Gekiga Shin David no Hoshi: Inma Densetsu                             1.0   \n",
              "Yasuji no Pornorama: Yacchimae!!                                               1.0   \n",
              "\n",
              "name                                                Violence Gekiga Shin David no Hoshi: Inma Densetsu  \\\n",
              "name                                                                                                     \n",
              "Kimi no Na wa.                                                                                    0.0    \n",
              "Fullmetal Alchemist: Brotherhood                                                                  0.0    \n",
              "Gintama°                                                                                          0.0    \n",
              "Steins;Gate                                                                                       0.0    \n",
              "Gintama&#039;                                                                                     0.0    \n",
              "...                                                                                               ...    \n",
              "Toushindai My Lover: Minami tai Mecha-Minami                                                      1.0    \n",
              "Under World                                                                                       1.0    \n",
              "Violence Gekiga David no Hoshi                                                                    1.0    \n",
              "Violence Gekiga Shin David no Hoshi: Inma Densetsu                                                1.0    \n",
              "Yasuji no Pornorama: Yacchimae!!                                                                  1.0    \n",
              "\n",
              "name                                                Yasuji no Pornorama: Yacchimae!!  \n",
              "name                                                                                  \n",
              "Kimi no Na wa.                                                                   0.0  \n",
              "Fullmetal Alchemist: Brotherhood                                                 0.0  \n",
              "Gintama°                                                                         0.0  \n",
              "Steins;Gate                                                                      0.0  \n",
              "Gintama&#039;                                                                    0.0  \n",
              "...                                                                              ...  \n",
              "Toushindai My Lover: Minami tai Mecha-Minami                                     1.0  \n",
              "Under World                                                                      1.0  \n",
              "Violence Gekiga David no Hoshi                                                   1.0  \n",
              "Violence Gekiga Shin David no Hoshi: Inma Densetsu                               1.0  \n",
              "Yasuji no Pornorama: Yacchimae!!                                                 1.0  \n",
              "\n",
              "[12017 rows x 12017 columns]"
            ],
            "text/html": [
              "\n",
              "  <div id=\"df-c2b9e1a9-aa27-4470-b609-af62d395f7e5\">\n",
              "    <div class=\"colab-df-container\">\n",
              "      <div>\n",
              "<style scoped>\n",
              "    .dataframe tbody tr th:only-of-type {\n",
              "        vertical-align: middle;\n",
              "    }\n",
              "\n",
              "    .dataframe tbody tr th {\n",
              "        vertical-align: top;\n",
              "    }\n",
              "\n",
              "    .dataframe thead th {\n",
              "        text-align: right;\n",
              "    }\n",
              "</style>\n",
              "<table border=\"1\" class=\"dataframe\">\n",
              "  <thead>\n",
              "    <tr style=\"text-align: right;\">\n",
              "      <th>name</th>\n",
              "      <th>Kimi no Na wa.</th>\n",
              "      <th>Fullmetal Alchemist: Brotherhood</th>\n",
              "      <th>Gintama°</th>\n",
              "      <th>Steins;Gate</th>\n",
              "      <th>Gintama&amp;#039;</th>\n",
              "      <th>Haikyuu!!: Karasuno Koukou VS Shiratorizawa Gakuen Koukou</th>\n",
              "      <th>Hunter x Hunter (2011)</th>\n",
              "      <th>Ginga Eiyuu Densetsu</th>\n",
              "      <th>Gintama Movie: Kanketsu-hen - Yorozuya yo Eien Nare</th>\n",
              "      <th>Gintama&amp;#039;: Enchousen</th>\n",
              "      <th>...</th>\n",
              "      <th>Silent Chaser Kagami</th>\n",
              "      <th>Super Erotic Anime</th>\n",
              "      <th>Teleclub no Himitsu</th>\n",
              "      <th>Tenshi no Habataki Jun</th>\n",
              "      <th>The Satisfaction</th>\n",
              "      <th>Toushindai My Lover: Minami tai Mecha-Minami</th>\n",
              "      <th>Under World</th>\n",
              "      <th>Violence Gekiga David no Hoshi</th>\n",
              "      <th>Violence Gekiga Shin David no Hoshi: Inma Densetsu</th>\n",
              "      <th>Yasuji no Pornorama: Yacchimae!!</th>\n",
              "    </tr>\n",
              "    <tr>\n",
              "      <th>name</th>\n",
              "      <th></th>\n",
              "      <th></th>\n",
              "      <th></th>\n",
              "      <th></th>\n",
              "      <th></th>\n",
              "      <th></th>\n",
              "      <th></th>\n",
              "      <th></th>\n",
              "      <th></th>\n",
              "      <th></th>\n",
              "      <th></th>\n",
              "      <th></th>\n",
              "      <th></th>\n",
              "      <th></th>\n",
              "      <th></th>\n",
              "      <th></th>\n",
              "      <th></th>\n",
              "      <th></th>\n",
              "      <th></th>\n",
              "      <th></th>\n",
              "      <th></th>\n",
              "    </tr>\n",
              "  </thead>\n",
              "  <tbody>\n",
              "    <tr>\n",
              "      <th>Kimi no Na wa.</th>\n",
              "      <td>1.000000</td>\n",
              "      <td>0.147153</td>\n",
              "      <td>0.000000</td>\n",
              "      <td>0.000000</td>\n",
              "      <td>0.000000</td>\n",
              "      <td>0.426050</td>\n",
              "      <td>0.000000</td>\n",
              "      <td>0.156140</td>\n",
              "      <td>0.000000</td>\n",
              "      <td>0.000000</td>\n",
              "      <td>...</td>\n",
              "      <td>0.0</td>\n",
              "      <td>0.0</td>\n",
              "      <td>0.0</td>\n",
              "      <td>0.0</td>\n",
              "      <td>0.0</td>\n",
              "      <td>0.0</td>\n",
              "      <td>0.0</td>\n",
              "      <td>0.0</td>\n",
              "      <td>0.0</td>\n",
              "      <td>0.0</td>\n",
              "    </tr>\n",
              "    <tr>\n",
              "      <th>Fullmetal Alchemist: Brotherhood</th>\n",
              "      <td>0.147153</td>\n",
              "      <td>1.000000</td>\n",
              "      <td>0.178778</td>\n",
              "      <td>0.000000</td>\n",
              "      <td>0.178778</td>\n",
              "      <td>0.282882</td>\n",
              "      <td>0.339213</td>\n",
              "      <td>0.407534</td>\n",
              "      <td>0.178778</td>\n",
              "      <td>0.178778</td>\n",
              "      <td>...</td>\n",
              "      <td>0.0</td>\n",
              "      <td>0.0</td>\n",
              "      <td>0.0</td>\n",
              "      <td>0.0</td>\n",
              "      <td>0.0</td>\n",
              "      <td>0.0</td>\n",
              "      <td>0.0</td>\n",
              "      <td>0.0</td>\n",
              "      <td>0.0</td>\n",
              "      <td>0.0</td>\n",
              "    </tr>\n",
              "    <tr>\n",
              "      <th>Gintama°</th>\n",
              "      <td>0.000000</td>\n",
              "      <td>0.178778</td>\n",
              "      <td>1.000000</td>\n",
              "      <td>0.220855</td>\n",
              "      <td>1.000000</td>\n",
              "      <td>0.182588</td>\n",
              "      <td>0.195860</td>\n",
              "      <td>0.199140</td>\n",
              "      <td>1.000000</td>\n",
              "      <td>1.000000</td>\n",
              "      <td>...</td>\n",
              "      <td>0.0</td>\n",
              "      <td>0.0</td>\n",
              "      <td>0.0</td>\n",
              "      <td>0.0</td>\n",
              "      <td>0.0</td>\n",
              "      <td>0.0</td>\n",
              "      <td>0.0</td>\n",
              "      <td>0.0</td>\n",
              "      <td>0.0</td>\n",
              "      <td>0.0</td>\n",
              "    </tr>\n",
              "    <tr>\n",
              "      <th>Steins;Gate</th>\n",
              "      <td>0.000000</td>\n",
              "      <td>0.000000</td>\n",
              "      <td>0.220855</td>\n",
              "      <td>1.000000</td>\n",
              "      <td>0.220855</td>\n",
              "      <td>0.000000</td>\n",
              "      <td>0.000000</td>\n",
              "      <td>0.274732</td>\n",
              "      <td>0.220855</td>\n",
              "      <td>0.220855</td>\n",
              "      <td>...</td>\n",
              "      <td>0.0</td>\n",
              "      <td>0.0</td>\n",
              "      <td>0.0</td>\n",
              "      <td>0.0</td>\n",
              "      <td>0.0</td>\n",
              "      <td>0.0</td>\n",
              "      <td>0.0</td>\n",
              "      <td>0.0</td>\n",
              "      <td>0.0</td>\n",
              "      <td>0.0</td>\n",
              "    </tr>\n",
              "    <tr>\n",
              "      <th>Gintama&amp;#039;</th>\n",
              "      <td>0.000000</td>\n",
              "      <td>0.178778</td>\n",
              "      <td>1.000000</td>\n",
              "      <td>0.220855</td>\n",
              "      <td>1.000000</td>\n",
              "      <td>0.182588</td>\n",
              "      <td>0.195860</td>\n",
              "      <td>0.199140</td>\n",
              "      <td>1.000000</td>\n",
              "      <td>1.000000</td>\n",
              "      <td>...</td>\n",
              "      <td>0.0</td>\n",
              "      <td>0.0</td>\n",
              "      <td>0.0</td>\n",
              "      <td>0.0</td>\n",
              "      <td>0.0</td>\n",
              "      <td>0.0</td>\n",
              "      <td>0.0</td>\n",
              "      <td>0.0</td>\n",
              "      <td>0.0</td>\n",
              "      <td>0.0</td>\n",
              "    </tr>\n",
              "    <tr>\n",
              "      <th>...</th>\n",
              "      <td>...</td>\n",
              "      <td>...</td>\n",
              "      <td>...</td>\n",
              "      <td>...</td>\n",
              "      <td>...</td>\n",
              "      <td>...</td>\n",
              "      <td>...</td>\n",
              "      <td>...</td>\n",
              "      <td>...</td>\n",
              "      <td>...</td>\n",
              "      <td>...</td>\n",
              "      <td>...</td>\n",
              "      <td>...</td>\n",
              "      <td>...</td>\n",
              "      <td>...</td>\n",
              "      <td>...</td>\n",
              "      <td>...</td>\n",
              "      <td>...</td>\n",
              "      <td>...</td>\n",
              "      <td>...</td>\n",
              "      <td>...</td>\n",
              "    </tr>\n",
              "    <tr>\n",
              "      <th>Toushindai My Lover: Minami tai Mecha-Minami</th>\n",
              "      <td>0.000000</td>\n",
              "      <td>0.000000</td>\n",
              "      <td>0.000000</td>\n",
              "      <td>0.000000</td>\n",
              "      <td>0.000000</td>\n",
              "      <td>0.000000</td>\n",
              "      <td>0.000000</td>\n",
              "      <td>0.000000</td>\n",
              "      <td>0.000000</td>\n",
              "      <td>0.000000</td>\n",
              "      <td>...</td>\n",
              "      <td>1.0</td>\n",
              "      <td>1.0</td>\n",
              "      <td>1.0</td>\n",
              "      <td>1.0</td>\n",
              "      <td>1.0</td>\n",
              "      <td>1.0</td>\n",
              "      <td>1.0</td>\n",
              "      <td>1.0</td>\n",
              "      <td>1.0</td>\n",
              "      <td>1.0</td>\n",
              "    </tr>\n",
              "    <tr>\n",
              "      <th>Under World</th>\n",
              "      <td>0.000000</td>\n",
              "      <td>0.000000</td>\n",
              "      <td>0.000000</td>\n",
              "      <td>0.000000</td>\n",
              "      <td>0.000000</td>\n",
              "      <td>0.000000</td>\n",
              "      <td>0.000000</td>\n",
              "      <td>0.000000</td>\n",
              "      <td>0.000000</td>\n",
              "      <td>0.000000</td>\n",
              "      <td>...</td>\n",
              "      <td>1.0</td>\n",
              "      <td>1.0</td>\n",
              "      <td>1.0</td>\n",
              "      <td>1.0</td>\n",
              "      <td>1.0</td>\n",
              "      <td>1.0</td>\n",
              "      <td>1.0</td>\n",
              "      <td>1.0</td>\n",
              "      <td>1.0</td>\n",
              "      <td>1.0</td>\n",
              "    </tr>\n",
              "    <tr>\n",
              "      <th>Violence Gekiga David no Hoshi</th>\n",
              "      <td>0.000000</td>\n",
              "      <td>0.000000</td>\n",
              "      <td>0.000000</td>\n",
              "      <td>0.000000</td>\n",
              "      <td>0.000000</td>\n",
              "      <td>0.000000</td>\n",
              "      <td>0.000000</td>\n",
              "      <td>0.000000</td>\n",
              "      <td>0.000000</td>\n",
              "      <td>0.000000</td>\n",
              "      <td>...</td>\n",
              "      <td>1.0</td>\n",
              "      <td>1.0</td>\n",
              "      <td>1.0</td>\n",
              "      <td>1.0</td>\n",
              "      <td>1.0</td>\n",
              "      <td>1.0</td>\n",
              "      <td>1.0</td>\n",
              "      <td>1.0</td>\n",
              "      <td>1.0</td>\n",
              "      <td>1.0</td>\n",
              "    </tr>\n",
              "    <tr>\n",
              "      <th>Violence Gekiga Shin David no Hoshi: Inma Densetsu</th>\n",
              "      <td>0.000000</td>\n",
              "      <td>0.000000</td>\n",
              "      <td>0.000000</td>\n",
              "      <td>0.000000</td>\n",
              "      <td>0.000000</td>\n",
              "      <td>0.000000</td>\n",
              "      <td>0.000000</td>\n",
              "      <td>0.000000</td>\n",
              "      <td>0.000000</td>\n",
              "      <td>0.000000</td>\n",
              "      <td>...</td>\n",
              "      <td>1.0</td>\n",
              "      <td>1.0</td>\n",
              "      <td>1.0</td>\n",
              "      <td>1.0</td>\n",
              "      <td>1.0</td>\n",
              "      <td>1.0</td>\n",
              "      <td>1.0</td>\n",
              "      <td>1.0</td>\n",
              "      <td>1.0</td>\n",
              "      <td>1.0</td>\n",
              "    </tr>\n",
              "    <tr>\n",
              "      <th>Yasuji no Pornorama: Yacchimae!!</th>\n",
              "      <td>0.000000</td>\n",
              "      <td>0.000000</td>\n",
              "      <td>0.000000</td>\n",
              "      <td>0.000000</td>\n",
              "      <td>0.000000</td>\n",
              "      <td>0.000000</td>\n",
              "      <td>0.000000</td>\n",
              "      <td>0.000000</td>\n",
              "      <td>0.000000</td>\n",
              "      <td>0.000000</td>\n",
              "      <td>...</td>\n",
              "      <td>1.0</td>\n",
              "      <td>1.0</td>\n",
              "      <td>1.0</td>\n",
              "      <td>1.0</td>\n",
              "      <td>1.0</td>\n",
              "      <td>1.0</td>\n",
              "      <td>1.0</td>\n",
              "      <td>1.0</td>\n",
              "      <td>1.0</td>\n",
              "      <td>1.0</td>\n",
              "    </tr>\n",
              "  </tbody>\n",
              "</table>\n",
              "<p>12017 rows × 12017 columns</p>\n",
              "</div>\n",
              "      <button class=\"colab-df-convert\" onclick=\"convertToInteractive('df-c2b9e1a9-aa27-4470-b609-af62d395f7e5')\"\n",
              "              title=\"Convert this dataframe to an interactive table.\"\n",
              "              style=\"display:none;\">\n",
              "        \n",
              "  <svg xmlns=\"http://www.w3.org/2000/svg\" height=\"24px\"viewBox=\"0 0 24 24\"\n",
              "       width=\"24px\">\n",
              "    <path d=\"M0 0h24v24H0V0z\" fill=\"none\"/>\n",
              "    <path d=\"M18.56 5.44l.94 2.06.94-2.06 2.06-.94-2.06-.94-.94-2.06-.94 2.06-2.06.94zm-11 1L8.5 8.5l.94-2.06 2.06-.94-2.06-.94L8.5 2.5l-.94 2.06-2.06.94zm10 10l.94 2.06.94-2.06 2.06-.94-2.06-.94-.94-2.06-.94 2.06-2.06.94z\"/><path d=\"M17.41 7.96l-1.37-1.37c-.4-.4-.92-.59-1.43-.59-.52 0-1.04.2-1.43.59L10.3 9.45l-7.72 7.72c-.78.78-.78 2.05 0 2.83L4 21.41c.39.39.9.59 1.41.59.51 0 1.02-.2 1.41-.59l7.78-7.78 2.81-2.81c.8-.78.8-2.07 0-2.86zM5.41 20L4 18.59l7.72-7.72 1.47 1.35L5.41 20z\"/>\n",
              "  </svg>\n",
              "      </button>\n",
              "      \n",
              "  <style>\n",
              "    .colab-df-container {\n",
              "      display:flex;\n",
              "      flex-wrap:wrap;\n",
              "      gap: 12px;\n",
              "    }\n",
              "\n",
              "    .colab-df-convert {\n",
              "      background-color: #E8F0FE;\n",
              "      border: none;\n",
              "      border-radius: 50%;\n",
              "      cursor: pointer;\n",
              "      display: none;\n",
              "      fill: #1967D2;\n",
              "      height: 32px;\n",
              "      padding: 0 0 0 0;\n",
              "      width: 32px;\n",
              "    }\n",
              "\n",
              "    .colab-df-convert:hover {\n",
              "      background-color: #E2EBFA;\n",
              "      box-shadow: 0px 1px 2px rgba(60, 64, 67, 0.3), 0px 1px 3px 1px rgba(60, 64, 67, 0.15);\n",
              "      fill: #174EA6;\n",
              "    }\n",
              "\n",
              "    [theme=dark] .colab-df-convert {\n",
              "      background-color: #3B4455;\n",
              "      fill: #D2E3FC;\n",
              "    }\n",
              "\n",
              "    [theme=dark] .colab-df-convert:hover {\n",
              "      background-color: #434B5C;\n",
              "      box-shadow: 0px 1px 3px 1px rgba(0, 0, 0, 0.15);\n",
              "      filter: drop-shadow(0px 1px 2px rgba(0, 0, 0, 0.3));\n",
              "      fill: #FFFFFF;\n",
              "    }\n",
              "  </style>\n",
              "\n",
              "      <script>\n",
              "        const buttonEl =\n",
              "          document.querySelector('#df-c2b9e1a9-aa27-4470-b609-af62d395f7e5 button.colab-df-convert');\n",
              "        buttonEl.style.display =\n",
              "          google.colab.kernel.accessAllowed ? 'block' : 'none';\n",
              "\n",
              "        async function convertToInteractive(key) {\n",
              "          const element = document.querySelector('#df-c2b9e1a9-aa27-4470-b609-af62d395f7e5');\n",
              "          const dataTable =\n",
              "            await google.colab.kernel.invokeFunction('convertToInteractive',\n",
              "                                                     [key], {});\n",
              "          if (!dataTable) return;\n",
              "\n",
              "          const docLinkHtml = 'Like what you see? Visit the ' +\n",
              "            '<a target=\"_blank\" href=https://colab.research.google.com/notebooks/data_table.ipynb>data table notebook</a>'\n",
              "            + ' to learn more about interactive tables.';\n",
              "          element.innerHTML = '';\n",
              "          dataTable['output_type'] = 'display_data';\n",
              "          await google.colab.output.renderOutput(dataTable, element);\n",
              "          const docLink = document.createElement('div');\n",
              "          docLink.innerHTML = docLinkHtml;\n",
              "          element.appendChild(docLink);\n",
              "        }\n",
              "      </script>\n",
              "    </div>\n",
              "  </div>\n",
              "  "
            ]
          },
          "metadata": {},
          "execution_count": 92
        }
      ]
    },
    {
      "cell_type": "code",
      "source": [
        "def anime_recommendation(nama_anime, similarity_data=cosine_sim_df, items=animes[['name', 'genre']], k=5):\n",
        "  index = similarity_data.loc[:, nama_anime].to_numpy().argpartition(\n",
        "      range(-1, -k, -1)\n",
        "  )\n",
        "\n",
        "  closest = similarity_data.columns[index[-1:-(k+2):-1]]\n",
        "  closest = closest.drop(nama_anime, errors='ignore')\n",
        "  df = pd.DataFrame(closest).merge(items).head(k)\n",
        "  return df"
      ],
      "metadata": {
        "id": "WWqs30bYXgs8"
      },
      "execution_count": null,
      "outputs": []
    },
    {
      "cell_type": "markdown",
      "source": [
        "Hasil rekomendasi"
      ],
      "metadata": {
        "id": "AOI0HkNyGM7n"
      }
    },
    {
      "cell_type": "code",
      "source": [
        "animes[animes['name'] == \"Sword Art Online\"]"
      ],
      "metadata": {
        "colab": {
          "base_uri": "https://localhost:8080/",
          "height": 81
        },
        "id": "kpFGfgj22Ux0",
        "outputId": "b92bb5c3-8414-4784-81ee-96343cd4ecab"
      },
      "execution_count": null,
      "outputs": [
        {
          "output_type": "execute_result",
          "data": {
            "text/plain": [
              "     anime_id              name                                      genre  \\\n",
              "804     11757  Sword Art Online  Action, Adventure, Fantasy, Game, Romance   \n",
              "\n",
              "    type episodes  rating  members  \n",
              "804   TV       25    7.83   893100  "
            ],
            "text/html": [
              "\n",
              "  <div id=\"df-ca25ff98-abb8-4d0c-ab69-4dd69bd47442\">\n",
              "    <div class=\"colab-df-container\">\n",
              "      <div>\n",
              "<style scoped>\n",
              "    .dataframe tbody tr th:only-of-type {\n",
              "        vertical-align: middle;\n",
              "    }\n",
              "\n",
              "    .dataframe tbody tr th {\n",
              "        vertical-align: top;\n",
              "    }\n",
              "\n",
              "    .dataframe thead th {\n",
              "        text-align: right;\n",
              "    }\n",
              "</style>\n",
              "<table border=\"1\" class=\"dataframe\">\n",
              "  <thead>\n",
              "    <tr style=\"text-align: right;\">\n",
              "      <th></th>\n",
              "      <th>anime_id</th>\n",
              "      <th>name</th>\n",
              "      <th>genre</th>\n",
              "      <th>type</th>\n",
              "      <th>episodes</th>\n",
              "      <th>rating</th>\n",
              "      <th>members</th>\n",
              "    </tr>\n",
              "  </thead>\n",
              "  <tbody>\n",
              "    <tr>\n",
              "      <th>804</th>\n",
              "      <td>11757</td>\n",
              "      <td>Sword Art Online</td>\n",
              "      <td>Action, Adventure, Fantasy, Game, Romance</td>\n",
              "      <td>TV</td>\n",
              "      <td>25</td>\n",
              "      <td>7.83</td>\n",
              "      <td>893100</td>\n",
              "    </tr>\n",
              "  </tbody>\n",
              "</table>\n",
              "</div>\n",
              "      <button class=\"colab-df-convert\" onclick=\"convertToInteractive('df-ca25ff98-abb8-4d0c-ab69-4dd69bd47442')\"\n",
              "              title=\"Convert this dataframe to an interactive table.\"\n",
              "              style=\"display:none;\">\n",
              "        \n",
              "  <svg xmlns=\"http://www.w3.org/2000/svg\" height=\"24px\"viewBox=\"0 0 24 24\"\n",
              "       width=\"24px\">\n",
              "    <path d=\"M0 0h24v24H0V0z\" fill=\"none\"/>\n",
              "    <path d=\"M18.56 5.44l.94 2.06.94-2.06 2.06-.94-2.06-.94-.94-2.06-.94 2.06-2.06.94zm-11 1L8.5 8.5l.94-2.06 2.06-.94-2.06-.94L8.5 2.5l-.94 2.06-2.06.94zm10 10l.94 2.06.94-2.06 2.06-.94-2.06-.94-.94-2.06-.94 2.06-2.06.94z\"/><path d=\"M17.41 7.96l-1.37-1.37c-.4-.4-.92-.59-1.43-.59-.52 0-1.04.2-1.43.59L10.3 9.45l-7.72 7.72c-.78.78-.78 2.05 0 2.83L4 21.41c.39.39.9.59 1.41.59.51 0 1.02-.2 1.41-.59l7.78-7.78 2.81-2.81c.8-.78.8-2.07 0-2.86zM5.41 20L4 18.59l7.72-7.72 1.47 1.35L5.41 20z\"/>\n",
              "  </svg>\n",
              "      </button>\n",
              "      \n",
              "  <style>\n",
              "    .colab-df-container {\n",
              "      display:flex;\n",
              "      flex-wrap:wrap;\n",
              "      gap: 12px;\n",
              "    }\n",
              "\n",
              "    .colab-df-convert {\n",
              "      background-color: #E8F0FE;\n",
              "      border: none;\n",
              "      border-radius: 50%;\n",
              "      cursor: pointer;\n",
              "      display: none;\n",
              "      fill: #1967D2;\n",
              "      height: 32px;\n",
              "      padding: 0 0 0 0;\n",
              "      width: 32px;\n",
              "    }\n",
              "\n",
              "    .colab-df-convert:hover {\n",
              "      background-color: #E2EBFA;\n",
              "      box-shadow: 0px 1px 2px rgba(60, 64, 67, 0.3), 0px 1px 3px 1px rgba(60, 64, 67, 0.15);\n",
              "      fill: #174EA6;\n",
              "    }\n",
              "\n",
              "    [theme=dark] .colab-df-convert {\n",
              "      background-color: #3B4455;\n",
              "      fill: #D2E3FC;\n",
              "    }\n",
              "\n",
              "    [theme=dark] .colab-df-convert:hover {\n",
              "      background-color: #434B5C;\n",
              "      box-shadow: 0px 1px 3px 1px rgba(0, 0, 0, 0.15);\n",
              "      filter: drop-shadow(0px 1px 2px rgba(0, 0, 0, 0.3));\n",
              "      fill: #FFFFFF;\n",
              "    }\n",
              "  </style>\n",
              "\n",
              "      <script>\n",
              "        const buttonEl =\n",
              "          document.querySelector('#df-ca25ff98-abb8-4d0c-ab69-4dd69bd47442 button.colab-df-convert');\n",
              "        buttonEl.style.display =\n",
              "          google.colab.kernel.accessAllowed ? 'block' : 'none';\n",
              "\n",
              "        async function convertToInteractive(key) {\n",
              "          const element = document.querySelector('#df-ca25ff98-abb8-4d0c-ab69-4dd69bd47442');\n",
              "          const dataTable =\n",
              "            await google.colab.kernel.invokeFunction('convertToInteractive',\n",
              "                                                     [key], {});\n",
              "          if (!dataTable) return;\n",
              "\n",
              "          const docLinkHtml = 'Like what you see? Visit the ' +\n",
              "            '<a target=\"_blank\" href=https://colab.research.google.com/notebooks/data_table.ipynb>data table notebook</a>'\n",
              "            + ' to learn more about interactive tables.';\n",
              "          element.innerHTML = '';\n",
              "          dataTable['output_type'] = 'display_data';\n",
              "          await google.colab.output.renderOutput(dataTable, element);\n",
              "          const docLink = document.createElement('div');\n",
              "          docLink.innerHTML = docLinkHtml;\n",
              "          element.appendChild(docLink);\n",
              "        }\n",
              "      </script>\n",
              "    </div>\n",
              "  </div>\n",
              "  "
            ]
          },
          "metadata": {},
          "execution_count": 149
        }
      ]
    },
    {
      "cell_type": "code",
      "source": [
        "anime_recommendation('Sword Art Online', k=5)"
      ],
      "metadata": {
        "colab": {
          "base_uri": "https://localhost:8080/",
          "height": 206
        },
        "id": "fCWFczRIdSi7",
        "outputId": "fabe011f-72d9-432a-abfe-0ce67ebdbf3a"
      },
      "execution_count": null,
      "outputs": [
        {
          "output_type": "execute_result",
          "data": {
            "text/plain": [
              "                               name                                      genre\n",
              "0               Sword Art Online II  Action, Adventure, Fantasy, Game, Romance\n",
              "1   Sword Art Online: Extra Edition  Action, Adventure, Fantasy, Game, Romance\n",
              "2   Sword Art Online II: Debriefing           Action, Adventure, Fantasy, Game\n",
              "3           Bakugan Battle Brawlers                      Action, Fantasy, Game\n",
              "4  Monster Strike: Mermaid Rhapsody                      Action, Fantasy, Game"
            ],
            "text/html": [
              "\n",
              "  <div id=\"df-fd538d14-8ade-4bfa-a5ce-56d6296ccc6c\">\n",
              "    <div class=\"colab-df-container\">\n",
              "      <div>\n",
              "<style scoped>\n",
              "    .dataframe tbody tr th:only-of-type {\n",
              "        vertical-align: middle;\n",
              "    }\n",
              "\n",
              "    .dataframe tbody tr th {\n",
              "        vertical-align: top;\n",
              "    }\n",
              "\n",
              "    .dataframe thead th {\n",
              "        text-align: right;\n",
              "    }\n",
              "</style>\n",
              "<table border=\"1\" class=\"dataframe\">\n",
              "  <thead>\n",
              "    <tr style=\"text-align: right;\">\n",
              "      <th></th>\n",
              "      <th>name</th>\n",
              "      <th>genre</th>\n",
              "    </tr>\n",
              "  </thead>\n",
              "  <tbody>\n",
              "    <tr>\n",
              "      <th>0</th>\n",
              "      <td>Sword Art Online II</td>\n",
              "      <td>Action, Adventure, Fantasy, Game, Romance</td>\n",
              "    </tr>\n",
              "    <tr>\n",
              "      <th>1</th>\n",
              "      <td>Sword Art Online: Extra Edition</td>\n",
              "      <td>Action, Adventure, Fantasy, Game, Romance</td>\n",
              "    </tr>\n",
              "    <tr>\n",
              "      <th>2</th>\n",
              "      <td>Sword Art Online II: Debriefing</td>\n",
              "      <td>Action, Adventure, Fantasy, Game</td>\n",
              "    </tr>\n",
              "    <tr>\n",
              "      <th>3</th>\n",
              "      <td>Bakugan Battle Brawlers</td>\n",
              "      <td>Action, Fantasy, Game</td>\n",
              "    </tr>\n",
              "    <tr>\n",
              "      <th>4</th>\n",
              "      <td>Monster Strike: Mermaid Rhapsody</td>\n",
              "      <td>Action, Fantasy, Game</td>\n",
              "    </tr>\n",
              "  </tbody>\n",
              "</table>\n",
              "</div>\n",
              "      <button class=\"colab-df-convert\" onclick=\"convertToInteractive('df-fd538d14-8ade-4bfa-a5ce-56d6296ccc6c')\"\n",
              "              title=\"Convert this dataframe to an interactive table.\"\n",
              "              style=\"display:none;\">\n",
              "        \n",
              "  <svg xmlns=\"http://www.w3.org/2000/svg\" height=\"24px\"viewBox=\"0 0 24 24\"\n",
              "       width=\"24px\">\n",
              "    <path d=\"M0 0h24v24H0V0z\" fill=\"none\"/>\n",
              "    <path d=\"M18.56 5.44l.94 2.06.94-2.06 2.06-.94-2.06-.94-.94-2.06-.94 2.06-2.06.94zm-11 1L8.5 8.5l.94-2.06 2.06-.94-2.06-.94L8.5 2.5l-.94 2.06-2.06.94zm10 10l.94 2.06.94-2.06 2.06-.94-2.06-.94-.94-2.06-.94 2.06-2.06.94z\"/><path d=\"M17.41 7.96l-1.37-1.37c-.4-.4-.92-.59-1.43-.59-.52 0-1.04.2-1.43.59L10.3 9.45l-7.72 7.72c-.78.78-.78 2.05 0 2.83L4 21.41c.39.39.9.59 1.41.59.51 0 1.02-.2 1.41-.59l7.78-7.78 2.81-2.81c.8-.78.8-2.07 0-2.86zM5.41 20L4 18.59l7.72-7.72 1.47 1.35L5.41 20z\"/>\n",
              "  </svg>\n",
              "      </button>\n",
              "      \n",
              "  <style>\n",
              "    .colab-df-container {\n",
              "      display:flex;\n",
              "      flex-wrap:wrap;\n",
              "      gap: 12px;\n",
              "    }\n",
              "\n",
              "    .colab-df-convert {\n",
              "      background-color: #E8F0FE;\n",
              "      border: none;\n",
              "      border-radius: 50%;\n",
              "      cursor: pointer;\n",
              "      display: none;\n",
              "      fill: #1967D2;\n",
              "      height: 32px;\n",
              "      padding: 0 0 0 0;\n",
              "      width: 32px;\n",
              "    }\n",
              "\n",
              "    .colab-df-convert:hover {\n",
              "      background-color: #E2EBFA;\n",
              "      box-shadow: 0px 1px 2px rgba(60, 64, 67, 0.3), 0px 1px 3px 1px rgba(60, 64, 67, 0.15);\n",
              "      fill: #174EA6;\n",
              "    }\n",
              "\n",
              "    [theme=dark] .colab-df-convert {\n",
              "      background-color: #3B4455;\n",
              "      fill: #D2E3FC;\n",
              "    }\n",
              "\n",
              "    [theme=dark] .colab-df-convert:hover {\n",
              "      background-color: #434B5C;\n",
              "      box-shadow: 0px 1px 3px 1px rgba(0, 0, 0, 0.15);\n",
              "      filter: drop-shadow(0px 1px 2px rgba(0, 0, 0, 0.3));\n",
              "      fill: #FFFFFF;\n",
              "    }\n",
              "  </style>\n",
              "\n",
              "      <script>\n",
              "        const buttonEl =\n",
              "          document.querySelector('#df-fd538d14-8ade-4bfa-a5ce-56d6296ccc6c button.colab-df-convert');\n",
              "        buttonEl.style.display =\n",
              "          google.colab.kernel.accessAllowed ? 'block' : 'none';\n",
              "\n",
              "        async function convertToInteractive(key) {\n",
              "          const element = document.querySelector('#df-fd538d14-8ade-4bfa-a5ce-56d6296ccc6c');\n",
              "          const dataTable =\n",
              "            await google.colab.kernel.invokeFunction('convertToInteractive',\n",
              "                                                     [key], {});\n",
              "          if (!dataTable) return;\n",
              "\n",
              "          const docLinkHtml = 'Like what you see? Visit the ' +\n",
              "            '<a target=\"_blank\" href=https://colab.research.google.com/notebooks/data_table.ipynb>data table notebook</a>'\n",
              "            + ' to learn more about interactive tables.';\n",
              "          element.innerHTML = '';\n",
              "          dataTable['output_type'] = 'display_data';\n",
              "          await google.colab.output.renderOutput(dataTable, element);\n",
              "          const docLink = document.createElement('div');\n",
              "          docLink.innerHTML = docLinkHtml;\n",
              "          element.appendChild(docLink);\n",
              "        }\n",
              "      </script>\n",
              "    </div>\n",
              "  </div>\n",
              "  "
            ]
          },
          "metadata": {},
          "execution_count": 141
        }
      ]
    },
    {
      "cell_type": "markdown",
      "source": [
        "Evaluasi model menggunakan Jaccard Similarity"
      ],
      "metadata": {
        "id": "fsf6Il_1GSRU"
      }
    },
    {
      "cell_type": "code",
      "source": [
        "def jaccard_set(list_genre, list_genre_prediksi):\n",
        "    intersection = len(list(set(list_genre).intersection(list_genre_prediksi)))\n",
        "    union = (len(list_genre) + len(list_genre_prediksi)) - intersection\n",
        "    return float(intersection) / union"
      ],
      "metadata": {
        "id": "j00wlGN1Cumh"
      },
      "execution_count": null,
      "outputs": []
    },
    {
      "cell_type": "code",
      "source": [
        "genre_anime  = animes[animes.name.eq('Sword Art Online')]['genre'].values.tolist()"
      ],
      "metadata": {
        "id": "SRbu80B9Cvb2"
      },
      "execution_count": null,
      "outputs": []
    },
    {
      "cell_type": "code",
      "source": [
        "def to_list(list):\n",
        "  for i in list:\n",
        "    return i.split(',')"
      ],
      "metadata": {
        "id": "b8LgKffl0JGU"
      },
      "execution_count": null,
      "outputs": []
    },
    {
      "cell_type": "code",
      "source": [
        "genre_anime = to_list(genre_anime)"
      ],
      "metadata": {
        "id": "vZgibffU0fN3"
      },
      "execution_count": null,
      "outputs": []
    },
    {
      "cell_type": "code",
      "source": [
        "all_genre_prediksi = anime_recommendation('Sword Art Online')['genre'].values"
      ],
      "metadata": {
        "id": "OIt6kzkg2YrS"
      },
      "execution_count": null,
      "outputs": []
    },
    {
      "cell_type": "code",
      "source": [
        "def jaccard_value_total(genre_anime, genre_prediksi):\n",
        "  total_jaccard_value = 0\n",
        "  result = 0\n",
        "  for i in range(len(genre_prediksi)):\n",
        "    genre = genre_prediksi[i].split(',')\n",
        "    jaccard_value = jaccard_set(genre_anime, genre)\n",
        "    total_jaccard_value += jaccard_value\n",
        "    result = total_jaccard_value / len(genre_prediksi)\n",
        "  return result"
      ],
      "metadata": {
        "id": "FbDBZ-jIGdf9"
      },
      "execution_count": null,
      "outputs": []
    },
    {
      "cell_type": "code",
      "source": [
        "jaccard_value_total(genre_anime, all_genre_prediksi)"
      ],
      "metadata": {
        "colab": {
          "base_uri": "https://localhost:8080/"
        },
        "id": "qUodyIhmG26Z",
        "outputId": "4a0b55d7-f740-4a6d-c587-838e2c755664"
      },
      "execution_count": null,
      "outputs": [
        {
          "output_type": "execute_result",
          "data": {
            "text/plain": [
              "0.8"
            ]
          },
          "metadata": {},
          "execution_count": 148
        }
      ]
    },
    {
      "cell_type": "markdown",
      "source": [
        "Dapat dilihat, jaccard score menunjukkan 0.8, yang artinya rekomendasi yang diberikan berdasarkan genre cukup baik. "
      ],
      "metadata": {
        "id": "JWzt2aLSb0N-"
      }
    },
    {
      "cell_type": "markdown",
      "source": [
        "# **Collaborative Filltering**"
      ],
      "metadata": {
        "id": "Eoj8gQZ9iwJZ"
      }
    },
    {
      "cell_type": "markdown",
      "source": [
        "Cek data rating"
      ],
      "metadata": {
        "id": "Ujodp1R0mIWk"
      }
    },
    {
      "cell_type": "code",
      "source": [
        "ratings.head()"
      ],
      "metadata": {
        "id": "O1_CFg5hgVfa",
        "colab": {
          "base_uri": "https://localhost:8080/",
          "height": 206
        },
        "outputId": "3b7d0990-57ed-4a77-a6df-019fcc8b4560"
      },
      "execution_count": null,
      "outputs": [
        {
          "output_type": "execute_result",
          "data": {
            "text/plain": [
              "   user_id  anime_id  rating\n",
              "0        1        20      -1\n",
              "1        1        24      -1\n",
              "2        1        79      -1\n",
              "3        1       226      -1\n",
              "4        1       241      -1"
            ],
            "text/html": [
              "\n",
              "  <div id=\"df-29b33f53-f51c-4fc1-b792-1270426fdd62\">\n",
              "    <div class=\"colab-df-container\">\n",
              "      <div>\n",
              "<style scoped>\n",
              "    .dataframe tbody tr th:only-of-type {\n",
              "        vertical-align: middle;\n",
              "    }\n",
              "\n",
              "    .dataframe tbody tr th {\n",
              "        vertical-align: top;\n",
              "    }\n",
              "\n",
              "    .dataframe thead th {\n",
              "        text-align: right;\n",
              "    }\n",
              "</style>\n",
              "<table border=\"1\" class=\"dataframe\">\n",
              "  <thead>\n",
              "    <tr style=\"text-align: right;\">\n",
              "      <th></th>\n",
              "      <th>user_id</th>\n",
              "      <th>anime_id</th>\n",
              "      <th>rating</th>\n",
              "    </tr>\n",
              "  </thead>\n",
              "  <tbody>\n",
              "    <tr>\n",
              "      <th>0</th>\n",
              "      <td>1</td>\n",
              "      <td>20</td>\n",
              "      <td>-1</td>\n",
              "    </tr>\n",
              "    <tr>\n",
              "      <th>1</th>\n",
              "      <td>1</td>\n",
              "      <td>24</td>\n",
              "      <td>-1</td>\n",
              "    </tr>\n",
              "    <tr>\n",
              "      <th>2</th>\n",
              "      <td>1</td>\n",
              "      <td>79</td>\n",
              "      <td>-1</td>\n",
              "    </tr>\n",
              "    <tr>\n",
              "      <th>3</th>\n",
              "      <td>1</td>\n",
              "      <td>226</td>\n",
              "      <td>-1</td>\n",
              "    </tr>\n",
              "    <tr>\n",
              "      <th>4</th>\n",
              "      <td>1</td>\n",
              "      <td>241</td>\n",
              "      <td>-1</td>\n",
              "    </tr>\n",
              "  </tbody>\n",
              "</table>\n",
              "</div>\n",
              "      <button class=\"colab-df-convert\" onclick=\"convertToInteractive('df-29b33f53-f51c-4fc1-b792-1270426fdd62')\"\n",
              "              title=\"Convert this dataframe to an interactive table.\"\n",
              "              style=\"display:none;\">\n",
              "        \n",
              "  <svg xmlns=\"http://www.w3.org/2000/svg\" height=\"24px\"viewBox=\"0 0 24 24\"\n",
              "       width=\"24px\">\n",
              "    <path d=\"M0 0h24v24H0V0z\" fill=\"none\"/>\n",
              "    <path d=\"M18.56 5.44l.94 2.06.94-2.06 2.06-.94-2.06-.94-.94-2.06-.94 2.06-2.06.94zm-11 1L8.5 8.5l.94-2.06 2.06-.94-2.06-.94L8.5 2.5l-.94 2.06-2.06.94zm10 10l.94 2.06.94-2.06 2.06-.94-2.06-.94-.94-2.06-.94 2.06-2.06.94z\"/><path d=\"M17.41 7.96l-1.37-1.37c-.4-.4-.92-.59-1.43-.59-.52 0-1.04.2-1.43.59L10.3 9.45l-7.72 7.72c-.78.78-.78 2.05 0 2.83L4 21.41c.39.39.9.59 1.41.59.51 0 1.02-.2 1.41-.59l7.78-7.78 2.81-2.81c.8-.78.8-2.07 0-2.86zM5.41 20L4 18.59l7.72-7.72 1.47 1.35L5.41 20z\"/>\n",
              "  </svg>\n",
              "      </button>\n",
              "      \n",
              "  <style>\n",
              "    .colab-df-container {\n",
              "      display:flex;\n",
              "      flex-wrap:wrap;\n",
              "      gap: 12px;\n",
              "    }\n",
              "\n",
              "    .colab-df-convert {\n",
              "      background-color: #E8F0FE;\n",
              "      border: none;\n",
              "      border-radius: 50%;\n",
              "      cursor: pointer;\n",
              "      display: none;\n",
              "      fill: #1967D2;\n",
              "      height: 32px;\n",
              "      padding: 0 0 0 0;\n",
              "      width: 32px;\n",
              "    }\n",
              "\n",
              "    .colab-df-convert:hover {\n",
              "      background-color: #E2EBFA;\n",
              "      box-shadow: 0px 1px 2px rgba(60, 64, 67, 0.3), 0px 1px 3px 1px rgba(60, 64, 67, 0.15);\n",
              "      fill: #174EA6;\n",
              "    }\n",
              "\n",
              "    [theme=dark] .colab-df-convert {\n",
              "      background-color: #3B4455;\n",
              "      fill: #D2E3FC;\n",
              "    }\n",
              "\n",
              "    [theme=dark] .colab-df-convert:hover {\n",
              "      background-color: #434B5C;\n",
              "      box-shadow: 0px 1px 3px 1px rgba(0, 0, 0, 0.15);\n",
              "      filter: drop-shadow(0px 1px 2px rgba(0, 0, 0, 0.3));\n",
              "      fill: #FFFFFF;\n",
              "    }\n",
              "  </style>\n",
              "\n",
              "      <script>\n",
              "        const buttonEl =\n",
              "          document.querySelector('#df-29b33f53-f51c-4fc1-b792-1270426fdd62 button.colab-df-convert');\n",
              "        buttonEl.style.display =\n",
              "          google.colab.kernel.accessAllowed ? 'block' : 'none';\n",
              "\n",
              "        async function convertToInteractive(key) {\n",
              "          const element = document.querySelector('#df-29b33f53-f51c-4fc1-b792-1270426fdd62');\n",
              "          const dataTable =\n",
              "            await google.colab.kernel.invokeFunction('convertToInteractive',\n",
              "                                                     [key], {});\n",
              "          if (!dataTable) return;\n",
              "\n",
              "          const docLinkHtml = 'Like what you see? Visit the ' +\n",
              "            '<a target=\"_blank\" href=https://colab.research.google.com/notebooks/data_table.ipynb>data table notebook</a>'\n",
              "            + ' to learn more about interactive tables.';\n",
              "          element.innerHTML = '';\n",
              "          dataTable['output_type'] = 'display_data';\n",
              "          await google.colab.output.renderOutput(dataTable, element);\n",
              "          const docLink = document.createElement('div');\n",
              "          docLink.innerHTML = docLinkHtml;\n",
              "          element.appendChild(docLink);\n",
              "        }\n",
              "      </script>\n",
              "    </div>\n",
              "  </div>\n",
              "  "
            ]
          },
          "metadata": {},
          "execution_count": 102
        }
      ]
    },
    {
      "cell_type": "markdown",
      "source": [
        "Hilangkan nilai -1, karena nilai tersebut nilai null/orang yang belum/tidak memberikan rating.\n",
        "Dengan menggunakan operator bitwise"
      ],
      "metadata": {
        "id": "Jqu4uJ7SmK5H"
      }
    },
    {
      "cell_type": "code",
      "source": [
        "mask = (ratings['rating'] == -1)"
      ],
      "metadata": {
        "id": "mrz05h33k9yi"
      },
      "execution_count": null,
      "outputs": []
    },
    {
      "cell_type": "code",
      "source": [
        "ratings = ratings.loc[~mask]"
      ],
      "metadata": {
        "id": "hUoa_Eajl8Y6"
      },
      "execution_count": null,
      "outputs": []
    },
    {
      "cell_type": "code",
      "source": [
        "ratings[ratings['rating'] == -1].sum()"
      ],
      "metadata": {
        "colab": {
          "base_uri": "https://localhost:8080/"
        },
        "id": "yuQHfFw7intE",
        "outputId": "bef7d75f-26e1-4bde-ff98-e1318caa68d5"
      },
      "execution_count": null,
      "outputs": [
        {
          "output_type": "execute_result",
          "data": {
            "text/plain": [
              "user_id     0.0\n",
              "anime_id    0.0\n",
              "rating      0.0\n",
              "dtype: float64"
            ]
          },
          "metadata": {},
          "execution_count": 105
        }
      ]
    },
    {
      "cell_type": "markdown",
      "source": [
        "ambil 1000 data rating"
      ],
      "metadata": {
        "id": "E3tk6Ixrs1WO"
      }
    },
    {
      "cell_type": "code",
      "source": [
        "ratings = ratings[ratings['user_id'] < 1000]"
      ],
      "metadata": {
        "id": "K6pAA8cFwGy0"
      },
      "execution_count": null,
      "outputs": []
    },
    {
      "cell_type": "markdown",
      "source": [
        "encoding rating user_id"
      ],
      "metadata": {
        "id": "VCbzYLtVxo_2"
      }
    },
    {
      "cell_type": "code",
      "source": [
        "from sklearn.preprocessing import LabelEncoder\n",
        "encoder_rating = LabelEncoder()"
      ],
      "metadata": {
        "id": "npQLh8ADnHPn"
      },
      "execution_count": null,
      "outputs": []
    },
    {
      "cell_type": "code",
      "source": [
        "ratings['user_id'] = encoder_rating.fit_transform(ratings['user_id'])"
      ],
      "metadata": {
        "id": "aZpXLqTnnLUp"
      },
      "execution_count": null,
      "outputs": []
    },
    {
      "cell_type": "markdown",
      "source": [
        "encoding anime_id"
      ],
      "metadata": {
        "id": "CwCsBeaix26a"
      }
    },
    {
      "cell_type": "code",
      "source": [
        "encoder_anime = LabelEncoder()"
      ],
      "metadata": {
        "id": "py4aLv95nctM"
      },
      "execution_count": null,
      "outputs": []
    },
    {
      "cell_type": "code",
      "source": [
        "ratings['anime_id'] = encoder_anime.fit_transform(ratings['anime_id'])"
      ],
      "metadata": {
        "id": "CQelG5WHnnVP"
      },
      "execution_count": null,
      "outputs": []
    },
    {
      "cell_type": "markdown",
      "source": [
        "ambil nilai unique"
      ],
      "metadata": {
        "id": "2aAd9vCQx68R"
      }
    },
    {
      "cell_type": "code",
      "source": [
        "userid_unique = ratings['user_id'].nunique()\n",
        "anime_unique = ratings['anime_id'].nunique()"
      ],
      "metadata": {
        "id": "oJZIYWcXoIM1"
      },
      "execution_count": null,
      "outputs": []
    },
    {
      "cell_type": "code",
      "source": [
        "print(\"user unique : \", userid_unique)\n",
        "print(\"anime unique : \", anime_unique)"
      ],
      "metadata": {
        "colab": {
          "base_uri": "https://localhost:8080/"
        },
        "id": "8JyTm4k-obKv",
        "outputId": "5605fcbb-8a7f-4f6d-f98e-3f741fb3d56a"
      },
      "execution_count": null,
      "outputs": [
        {
          "output_type": "stream",
          "name": "stdout",
          "text": [
            "user unique :  940\n",
            "anime unique :  4510\n"
          ]
        }
      ]
    },
    {
      "cell_type": "markdown",
      "source": [
        "import library"
      ],
      "metadata": {
        "id": "IgAAFaUdx_74"
      }
    },
    {
      "cell_type": "code",
      "source": [
        "import tensorflow as tf\n",
        "from tensorflow.keras import Model\n",
        "from tensorflow.keras.layers import Input, Embedding, Reshape, Flatten, concatenate, Dense, Dropout\n",
        "from tensorflow.keras.optimizers import Adam\n",
        "from sklearn.model_selection import train_test_split"
      ],
      "metadata": {
        "id": "66RQ0-ZEovJY"
      },
      "execution_count": null,
      "outputs": []
    },
    {
      "cell_type": "code",
      "source": [
        "X = ratings.drop(['rating'], axis=1)"
      ],
      "metadata": {
        "id": "J-PNvGCnqQlv"
      },
      "execution_count": null,
      "outputs": []
    },
    {
      "cell_type": "code",
      "source": [
        "y = ratings['rating'].astype(float)"
      ],
      "metadata": {
        "id": "XvCC9RJLqY_x"
      },
      "execution_count": null,
      "outputs": []
    },
    {
      "cell_type": "markdown",
      "source": [
        "Bagi data"
      ],
      "metadata": {
        "id": "U4u29Z6DOxX4"
      }
    },
    {
      "cell_type": "code",
      "source": [
        "X_train, X_val, y_train, y_val = train_test_split(X, y, test_size=0.2, random_state=22)"
      ],
      "metadata": {
        "id": "tEO_rYq_qe-P"
      },
      "execution_count": null,
      "outputs": []
    },
    {
      "cell_type": "markdown",
      "source": [
        "buat callback"
      ],
      "metadata": {
        "id": "6ierV3DNyExI"
      }
    },
    {
      "cell_type": "code",
      "source": [
        "class myCallback(tf.keras.callbacks.Callback):\n",
        "  def on_epoc_end(self, epoch, logs={}):\n",
        "    if(logs.get('mean_squared_error') <= 0.6):\n",
        "      print(\"\\nMean squared error telah mencapai 0.6. Stop training!\")\n",
        "      self.model.stop_training = True\n",
        "my_callbacks = myCallback()"
      ],
      "metadata": {
        "id": "Ea_MxCsVZodP"
      },
      "execution_count": null,
      "outputs": []
    },
    {
      "cell_type": "markdown",
      "source": [
        "Model"
      ],
      "metadata": {
        "id": "RA3T-SU7yH5F"
      }
    },
    {
      "cell_type": "code",
      "source": [
        "def RecommenderAnime(n_users, n_movies, n_dim):\n",
        "    \n",
        "    # User\n",
        "    user = Input(shape=(1,))\n",
        "    U = Embedding(n_users, n_dim)(user)\n",
        "    U = Dropout(0.2)(U)\n",
        "    U = Flatten()(U)\n",
        "    \n",
        "    # Anime\n",
        "    movie = Input(shape=(1,))\n",
        "    M = Embedding(n_movies, n_dim)(movie)\n",
        "    M = Dropout(0.2)(M)\n",
        "    M = Flatten()(M)\n",
        "    \n",
        "    # Gabungkan disini\n",
        "    merged_vector = concatenate([U, M])\n",
        "    dense_1 = Dense(128, activation='relu')(merged_vector)\n",
        "    dropout = Dropout(0.3)(dense_1)\n",
        "    final = Dense(1)(dropout)\n",
        "    \n",
        "    model = Model(inputs=[user, movie], outputs=final)\n",
        "    \n",
        "    model.compile(optimizer=Adam(0.001),\n",
        "                  loss='mean_squared_error',\n",
        "                  metrics=['mse'])\n",
        "    \n",
        "    return model"
      ],
      "metadata": {
        "id": "apQFsbSq00vU"
      },
      "execution_count": null,
      "outputs": []
    },
    {
      "cell_type": "code",
      "source": [
        "model = RecommenderAnime(userid_unique, anime_unique, 100)"
      ],
      "metadata": {
        "id": "H39faLBn1MJp"
      },
      "execution_count": null,
      "outputs": []
    },
    {
      "cell_type": "code",
      "source": [
        "model.summary()"
      ],
      "metadata": {
        "colab": {
          "base_uri": "https://localhost:8080/"
        },
        "id": "L3gm_V41PREa",
        "outputId": "fb30e55f-8db3-4195-95a1-31f13eede069"
      },
      "execution_count": null,
      "outputs": [
        {
          "output_type": "stream",
          "name": "stdout",
          "text": [
            "Model: \"model\"\n",
            "__________________________________________________________________________________________________\n",
            " Layer (type)                   Output Shape         Param #     Connected to                     \n",
            "==================================================================================================\n",
            " input_1 (InputLayer)           [(None, 1)]          0           []                               \n",
            "                                                                                                  \n",
            " input_2 (InputLayer)           [(None, 1)]          0           []                               \n",
            "                                                                                                  \n",
            " embedding (Embedding)          (None, 1, 100)       94000       ['input_1[0][0]']                \n",
            "                                                                                                  \n",
            " embedding_1 (Embedding)        (None, 1, 100)       451000      ['input_2[0][0]']                \n",
            "                                                                                                  \n",
            " dropout (Dropout)              (None, 1, 100)       0           ['embedding[0][0]']              \n",
            "                                                                                                  \n",
            " dropout_1 (Dropout)            (None, 1, 100)       0           ['embedding_1[0][0]']            \n",
            "                                                                                                  \n",
            " flatten (Flatten)              (None, 100)          0           ['dropout[0][0]']                \n",
            "                                                                                                  \n",
            " flatten_1 (Flatten)            (None, 100)          0           ['dropout_1[0][0]']              \n",
            "                                                                                                  \n",
            " concatenate (Concatenate)      (None, 200)          0           ['flatten[0][0]',                \n",
            "                                                                  'flatten_1[0][0]']              \n",
            "                                                                                                  \n",
            " dense (Dense)                  (None, 128)          25728       ['concatenate[0][0]']            \n",
            "                                                                                                  \n",
            " dropout_2 (Dropout)            (None, 128)          0           ['dense[0][0]']                  \n",
            "                                                                                                  \n",
            " dense_1 (Dense)                (None, 1)            129         ['dropout_2[0][0]']              \n",
            "                                                                                                  \n",
            "==================================================================================================\n",
            "Total params: 570,857\n",
            "Trainable params: 570,857\n",
            "Non-trainable params: 0\n",
            "__________________________________________________________________________________________________\n"
          ]
        }
      ]
    },
    {
      "cell_type": "markdown",
      "source": [
        "Traning model"
      ],
      "metadata": {
        "id": "0DLz2cIsyPV5"
      }
    },
    {
      "cell_type": "code",
      "source": [
        "history = model.fit(x=[X_train['user_id'], X_train['anime_id']],\n",
        "                    y=y_train,\n",
        "                    batch_size=8,\n",
        "                    epochs=30,\n",
        "                    verbose=1,\n",
        "                    validation_data=([X_val['user_id'], X_val['anime_id']], y_val),\n",
        "                    callbacks=[my_callbacks]\n",
        "                    )"
      ],
      "metadata": {
        "colab": {
          "base_uri": "https://localhost:8080/"
        },
        "id": "KSAjvAq0vDRn",
        "outputId": "fbba8597-b678-468e-e939-17467f7a825a"
      },
      "execution_count": null,
      "outputs": [
        {
          "output_type": "stream",
          "name": "stdout",
          "text": [
            "Epoch 1/30\n",
            "7787/7787 [==============================] - 79s 10ms/step - loss: 2.9804 - mse: 2.9804 - val_loss: 1.5923 - val_mse: 1.5923\n",
            "Epoch 2/30\n",
            "7787/7787 [==============================] - 74s 9ms/step - loss: 1.8066 - mse: 1.8066 - val_loss: 1.5241 - val_mse: 1.5241\n",
            "Epoch 3/30\n",
            "7787/7787 [==============================] - 78s 10ms/step - loss: 1.6586 - mse: 1.6586 - val_loss: 1.5410 - val_mse: 1.5410\n",
            "Epoch 4/30\n",
            "7787/7787 [==============================] - 78s 10ms/step - loss: 1.5616 - mse: 1.5616 - val_loss: 1.4689 - val_mse: 1.4689\n",
            "Epoch 5/30\n",
            "7787/7787 [==============================] - 76s 10ms/step - loss: 1.4768 - mse: 1.4768 - val_loss: 1.4410 - val_mse: 1.4410\n",
            "Epoch 6/30\n",
            "7787/7787 [==============================] - 74s 10ms/step - loss: 1.4161 - mse: 1.4161 - val_loss: 1.4467 - val_mse: 1.4467\n",
            "Epoch 7/30\n",
            "7787/7787 [==============================] - 71s 9ms/step - loss: 1.3805 - mse: 1.3805 - val_loss: 1.4316 - val_mse: 1.4316\n",
            "Epoch 8/30\n",
            "7787/7787 [==============================] - 75s 10ms/step - loss: 1.3180 - mse: 1.3180 - val_loss: 1.4577 - val_mse: 1.4577\n",
            "Epoch 9/30\n",
            "7787/7787 [==============================] - 71s 9ms/step - loss: 1.2911 - mse: 1.2911 - val_loss: 1.4407 - val_mse: 1.4407\n",
            "Epoch 10/30\n",
            "7787/7787 [==============================] - 71s 9ms/step - loss: 1.2528 - mse: 1.2528 - val_loss: 1.4678 - val_mse: 1.4678\n",
            "Epoch 11/30\n",
            "7787/7787 [==============================] - 81s 10ms/step - loss: 1.2315 - mse: 1.2315 - val_loss: 1.4353 - val_mse: 1.4353\n",
            "Epoch 12/30\n",
            "7787/7787 [==============================] - 94s 12ms/step - loss: 1.2085 - mse: 1.2085 - val_loss: 1.4518 - val_mse: 1.4518\n",
            "Epoch 13/30\n",
            "7787/7787 [==============================] - 88s 11ms/step - loss: 1.1896 - mse: 1.1896 - val_loss: 1.4441 - val_mse: 1.4441\n",
            "Epoch 14/30\n",
            "7787/7787 [==============================] - 95s 12ms/step - loss: 1.1593 - mse: 1.1593 - val_loss: 1.4542 - val_mse: 1.4542\n",
            "Epoch 15/30\n",
            "7787/7787 [==============================] - 98s 13ms/step - loss: 1.1368 - mse: 1.1368 - val_loss: 1.4586 - val_mse: 1.4586\n",
            "Epoch 16/30\n",
            "7787/7787 [==============================] - 94s 12ms/step - loss: 1.1184 - mse: 1.1184 - val_loss: 1.4377 - val_mse: 1.4377\n",
            "Epoch 17/30\n",
            "7787/7787 [==============================] - 94s 12ms/step - loss: 1.1005 - mse: 1.1005 - val_loss: 1.4549 - val_mse: 1.4549\n",
            "Epoch 18/30\n",
            "7787/7787 [==============================] - 96s 12ms/step - loss: 1.0817 - mse: 1.0817 - val_loss: 1.4635 - val_mse: 1.4635\n",
            "Epoch 19/30\n",
            "7787/7787 [==============================] - 89s 11ms/step - loss: 1.0668 - mse: 1.0668 - val_loss: 1.4704 - val_mse: 1.4704\n",
            "Epoch 20/30\n",
            "7787/7787 [==============================] - 90s 12ms/step - loss: 1.0310 - mse: 1.0310 - val_loss: 1.4640 - val_mse: 1.4640\n",
            "Epoch 21/30\n",
            "7787/7787 [==============================] - 89s 11ms/step - loss: 1.0190 - mse: 1.0190 - val_loss: 1.5618 - val_mse: 1.5618\n",
            "Epoch 22/30\n",
            "7787/7787 [==============================] - 90s 12ms/step - loss: 1.0028 - mse: 1.0028 - val_loss: 1.4710 - val_mse: 1.4710\n",
            "Epoch 23/30\n",
            "7787/7787 [==============================] - 88s 11ms/step - loss: 0.9906 - mse: 0.9906 - val_loss: 1.4840 - val_mse: 1.4840\n",
            "Epoch 24/30\n",
            "7787/7787 [==============================] - 83s 11ms/step - loss: 0.9679 - mse: 0.9679 - val_loss: 1.5272 - val_mse: 1.5272\n",
            "Epoch 25/30\n",
            "7787/7787 [==============================] - 80s 10ms/step - loss: 0.9588 - mse: 0.9588 - val_loss: 1.5487 - val_mse: 1.5487\n",
            "Epoch 26/30\n",
            "7787/7787 [==============================] - 89s 11ms/step - loss: 0.9456 - mse: 0.9456 - val_loss: 1.5220 - val_mse: 1.5220\n",
            "Epoch 27/30\n",
            "7787/7787 [==============================] - 91s 12ms/step - loss: 0.9320 - mse: 0.9320 - val_loss: 1.5017 - val_mse: 1.5017\n",
            "Epoch 28/30\n",
            "7787/7787 [==============================] - 90s 12ms/step - loss: 0.9113 - mse: 0.9113 - val_loss: 1.4956 - val_mse: 1.4956\n",
            "Epoch 29/30\n",
            "7787/7787 [==============================] - 94s 12ms/step - loss: 0.9096 - mse: 0.9096 - val_loss: 1.5137 - val_mse: 1.5137\n",
            "Epoch 30/30\n",
            "7787/7787 [==============================] - 95s 12ms/step - loss: 0.8943 - mse: 0.8943 - val_loss: 1.5316 - val_mse: 1.5316\n"
          ]
        }
      ]
    },
    {
      "cell_type": "markdown",
      "source": [
        "plot loss model"
      ],
      "metadata": {
        "id": "lMCDdvF0ySFC"
      }
    },
    {
      "cell_type": "code",
      "source": [
        "plt.plot(history.history['loss'])\n",
        "plt.plot(history.history['val_loss'])\n",
        "plt.title('model_loss')\n",
        "plt.ylabel('loss')\n",
        "plt.xlabel('epoch')\n",
        "plt.legend(['train', 'val'], loc='upper right')\n",
        "plt.show()"
      ],
      "metadata": {
        "colab": {
          "base_uri": "https://localhost:8080/",
          "height": 295
        },
        "id": "Q3XpZPEAYKnE",
        "outputId": "ed8bc12a-c99e-4270-f692-f246389f30e1"
      },
      "execution_count": null,
      "outputs": [
        {
          "output_type": "display_data",
          "data": {
            "text/plain": [
              "<Figure size 432x288 with 1 Axes>"
            ],
            "image/png": "[encoded data removed]"
          },
          "metadata": {
            "needs_background": "light"
          }
        }
      ]
    },
    {
      "cell_type": "code",
      "source": [
        "plt.plot(history.history['mse'])\n",
        "plt.plot(history.history['val_mse'])\n",
        "plt.title('Nilai MSE model')\n",
        "plt.ylabel('mse')\n",
        "plt.xlabel('epochs')\n",
        "plt.legend(['mse', 'val_mse'], loc='upper right')\n",
        "plt.show()"
      ],
      "metadata": {
        "colab": {
          "base_uri": "https://localhost:8080/",
          "height": 295
        },
        "id": "0UpOWpBXxOnl",
        "outputId": "f830c1dd-4a66-4df5-b16b-658026a50f7c"
      },
      "execution_count": null,
      "outputs": [
        {
          "output_type": "display_data",
          "data": {
            "text/plain": [
              "<Figure size 432x288 with 1 Axes>"
            ],
            "image/png": "[encoded data removed]"
          },
          "metadata": {
            "needs_background": "light"
          }
        }
      ]
    },
    {
      "cell_type": "markdown",
      "source": [
        "simpan model"
      ],
      "metadata": {
        "id": "M1YqtSVIyUVV"
      }
    },
    {
      "cell_type": "code",
      "source": [
        "model.save('my_model.h5')"
      ],
      "metadata": {
        "id": "bO5onyJKhvle"
      },
      "execution_count": null,
      "outputs": []
    },
    {
      "cell_type": "markdown",
      "source": [
        "buat fungsi prediksi"
      ],
      "metadata": {
        "id": "IZnZvvWGyV2d"
      }
    },
    {
      "cell_type": "code",
      "source": [
        "def buat_prediksi(user_id, anime_id, model):\n",
        "    return model.predict([np.array([user_id]), np.array([anime_id])])[0][0].round(2)"
      ],
      "metadata": {
        "id": "zJeGR_zGYxDU"
      },
      "execution_count": null,
      "outputs": []
    },
    {
      "cell_type": "code",
      "source": [],
      "metadata": {
        "colab": {
          "base_uri": "https://localhost:8080/"
        },
        "id": "ALJuSZnoZziP",
        "outputId": "5381cc4c-a7f2-431a-e1d5-924f6071f7d8"
      },
      "execution_count": null,
      "outputs": [
        {
          "output_type": "execute_result",
          "data": {
            "text/plain": [
              "7.06"
            ]
          },
          "metadata": {},
          "execution_count": 134
        }
      ]
    },
    {
      "cell_type": "code",
      "source": [
        "def prediksi_teratas(user_id, model, k):\n",
        "  \"\"\"\n",
        "  Parameter user_id : input user ke n dari data set\n",
        "  Parameter model : input model yang telah di traning\n",
        "  Parameter k : input berapa banyak prediksi yang akan tampilkan\n",
        "  \"\"\"\n",
        "\n",
        "\n",
        "  user_id = int(user_id) - 1    # ambil user id\n",
        "  user_ratings = ratings[ratings['user_id'] == user_id] # lihat anime apa saja yg telah di review oleh pengguna\n",
        "  anime_id_user_ratings = user_ratings.anime_id.values.tolist() # buatlist anime yang telah ditonton oleh pengguna\n",
        "  anime_viewed = animes.loc[animes['anime_id'].isin(anime_id_user_ratings)].sort_values(by='anime_id')  # cari anime berdasarkan anime_id\n",
        "  \n",
        "  genre_viewed = defaultdict(int)  # buat dictionary\n",
        "\n",
        "  for genres in anime_viewed['genre']:  # hitung genre yang muncul\n",
        "    for genre in genres.split(','):\n",
        "        genre_viewed[genre.strip()] += 1\n",
        "\n",
        "  genre_viewed_by_user = list(sorted(genre_viewed, key=genre_viewed.get, reverse=True)) # urutkan genre yang muncul dari yang paling banyak\n",
        "  top7_genre_by_user = genre_viewed_by_user[:7]  # ambil 7 genre tertinggi\n",
        "\n",
        "  print(\"7 genre yang banyak ditonton oleh pengguna : \\n\")\n",
        "  print(top7_genre_by_user, sep=\", \")\n",
        "  print(\"=======================\" * 5)\n",
        "  \n",
        "  rekomendasi = ratings[~ratings['anime_id'].isin(user_ratings['anime_id'])][['anime_id']].drop_duplicates() # hilangkan anime yg telah di review dan masukkan ke dataframe rekomendasi\n",
        "  rekomendasi['rating_predict'] = rekomendasi.apply(lambda x: buat_prediksi(user_id, x['anime_id'], model), axis=1) # prediksi semua baris data anime. yg hasilnya dimasukkan ke dataframe rekomendasi\n",
        "  rekomendasi_fix = rekomendasi.sort_values(by='rating_predict', ascending=False).merge(animes[['anime_id', 'name', 'type', 'members', 'genre']],\n",
        "                                                                                       on='anime_id').head(k) # urutkan dari rating 5 tertinggi \n",
        "  return rekomendasi_fix.sort_values('rating_predict', ascending=False)[['name', 'type', 'rating_predict', 'genre']]"
      ],
      "metadata": {
        "id": "WXAf012qZGs8"
      },
      "execution_count": null,
      "outputs": []
    },
    {
      "cell_type": "markdown",
      "source": [
        "hasil prediksi"
      ],
      "metadata": {
        "id": "NktoaEeLyckI"
      }
    },
    {
      "cell_type": "code",
      "source": [
        "prediksi_teratas(200, model, 5)"
      ],
      "metadata": {
        "colab": {
          "base_uri": "https://localhost:8080/",
          "height": 296
        },
        "id": "8TQLD1rn1KoA",
        "outputId": "cc95e109-9fa4-4e40-c73c-f946c8b44a82"
      },
      "execution_count": null,
      "outputs": [
        {
          "output_type": "stream",
          "name": "stdout",
          "text": [
            "7 genre yang banyak ditonton oleh pengguna : \n",
            "\n",
            "['Comedy', 'Adventure', 'Sci-Fi', 'Action', 'Fantasy', 'Shounen', 'Drama']\n",
            "===================================================================================================================\n"
          ]
        },
        {
          "output_type": "execute_result",
          "data": {
            "text/plain": [
              "                    name   type  rating_predict  \\\n",
              "0            Little Nemo  Movie            9.98   \n",
              "1                   TO-Y    OVA            9.86   \n",
              "2        Yami no Matsuei     TV            9.82   \n",
              "3  Zettai Karen Children     TV            9.80   \n",
              "4         Tattoon Master    OVA            9.78   \n",
              "\n",
              "                                               genre  \n",
              "0                                 Adventure, Fantasy  \n",
              "1                              Drama, Music, Shounen  \n",
              "2  Comedy, Drama, Fantasy, Horror, Magic, Shoujo,...  \n",
              "3              Action, Comedy, Shounen, Supernatural  \n",
              "4     Adventure, Comedy, Slice of Life, Supernatural  "
            ],
            "text/html": [
              "\n",
              "  <div id=\"df-2ea0fee0-6208-43ce-b814-bdf6eec87610\">\n",
              "    <div class=\"colab-df-container\">\n",
              "      <div>\n",
              "<style scoped>\n",
              "    .dataframe tbody tr th:only-of-type {\n",
              "        vertical-align: middle;\n",
              "    }\n",
              "\n",
              "    .dataframe tbody tr th {\n",
              "        vertical-align: top;\n",
              "    }\n",
              "\n",
              "    .dataframe thead th {\n",
              "        text-align: right;\n",
              "    }\n",
              "</style>\n",
              "<table border=\"1\" class=\"dataframe\">\n",
              "  <thead>\n",
              "    <tr style=\"text-align: right;\">\n",
              "      <th></th>\n",
              "      <th>name</th>\n",
              "      <th>type</th>\n",
              "      <th>rating_predict</th>\n",
              "      <th>genre</th>\n",
              "    </tr>\n",
              "  </thead>\n",
              "  <tbody>\n",
              "    <tr>\n",
              "      <th>0</th>\n",
              "      <td>Little Nemo</td>\n",
              "      <td>Movie</td>\n",
              "      <td>9.98</td>\n",
              "      <td>Adventure, Fantasy</td>\n",
              "    </tr>\n",
              "    <tr>\n",
              "      <th>1</th>\n",
              "      <td>TO-Y</td>\n",
              "      <td>OVA</td>\n",
              "      <td>9.86</td>\n",
              "      <td>Drama, Music, Shounen</td>\n",
              "    </tr>\n",
              "    <tr>\n",
              "      <th>2</th>\n",
              "      <td>Yami no Matsuei</td>\n",
              "      <td>TV</td>\n",
              "      <td>9.82</td>\n",
              "      <td>Comedy, Drama, Fantasy, Horror, Magic, Shoujo,...</td>\n",
              "    </tr>\n",
              "    <tr>\n",
              "      <th>3</th>\n",
              "      <td>Zettai Karen Children</td>\n",
              "      <td>TV</td>\n",
              "      <td>9.80</td>\n",
              "      <td>Action, Comedy, Shounen, Supernatural</td>\n",
              "    </tr>\n",
              "    <tr>\n",
              "      <th>4</th>\n",
              "      <td>Tattoon Master</td>\n",
              "      <td>OVA</td>\n",
              "      <td>9.78</td>\n",
              "      <td>Adventure, Comedy, Slice of Life, Supernatural</td>\n",
              "    </tr>\n",
              "  </tbody>\n",
              "</table>\n",
              "</div>\n",
              "      <button class=\"colab-df-convert\" onclick=\"convertToInteractive('df-2ea0fee0-6208-43ce-b814-bdf6eec87610')\"\n",
              "              title=\"Convert this dataframe to an interactive table.\"\n",
              "              style=\"display:none;\">\n",
              "        \n",
              "  <svg xmlns=\"http://www.w3.org/2000/svg\" height=\"24px\"viewBox=\"0 0 24 24\"\n",
              "       width=\"24px\">\n",
              "    <path d=\"M0 0h24v24H0V0z\" fill=\"none\"/>\n",
              "    <path d=\"M18.56 5.44l.94 2.06.94-2.06 2.06-.94-2.06-.94-.94-2.06-.94 2.06-2.06.94zm-11 1L8.5 8.5l.94-2.06 2.06-.94-2.06-.94L8.5 2.5l-.94 2.06-2.06.94zm10 10l.94 2.06.94-2.06 2.06-.94-2.06-.94-.94-2.06-.94 2.06-2.06.94z\"/><path d=\"M17.41 7.96l-1.37-1.37c-.4-.4-.92-.59-1.43-.59-.52 0-1.04.2-1.43.59L10.3 9.45l-7.72 7.72c-.78.78-.78 2.05 0 2.83L4 21.41c.39.39.9.59 1.41.59.51 0 1.02-.2 1.41-.59l7.78-7.78 2.81-2.81c.8-.78.8-2.07 0-2.86zM5.41 20L4 18.59l7.72-7.72 1.47 1.35L5.41 20z\"/>\n",
              "  </svg>\n",
              "      </button>\n",
              "      \n",
              "  <style>\n",
              "    .colab-df-container {\n",
              "      display:flex;\n",
              "      flex-wrap:wrap;\n",
              "      gap: 12px;\n",
              "    }\n",
              "\n",
              "    .colab-df-convert {\n",
              "      background-color: #E8F0FE;\n",
              "      border: none;\n",
              "      border-radius: 50%;\n",
              "      cursor: pointer;\n",
              "      display: none;\n",
              "      fill: #1967D2;\n",
              "      height: 32px;\n",
              "      padding: 0 0 0 0;\n",
              "      width: 32px;\n",
              "    }\n",
              "\n",
              "    .colab-df-convert:hover {\n",
              "      background-color: #E2EBFA;\n",
              "      box-shadow: 0px 1px 2px rgba(60, 64, 67, 0.3), 0px 1px 3px 1px rgba(60, 64, 67, 0.15);\n",
              "      fill: #174EA6;\n",
              "    }\n",
              "\n",
              "    [theme=dark] .colab-df-convert {\n",
              "      background-color: #3B4455;\n",
              "      fill: #D2E3FC;\n",
              "    }\n",
              "\n",
              "    [theme=dark] .colab-df-convert:hover {\n",
              "      background-color: #434B5C;\n",
              "      box-shadow: 0px 1px 3px 1px rgba(0, 0, 0, 0.15);\n",
              "      filter: drop-shadow(0px 1px 2px rgba(0, 0, 0, 0.3));\n",
              "      fill: #FFFFFF;\n",
              "    }\n",
              "  </style>\n",
              "\n",
              "      <script>\n",
              "        const buttonEl =\n",
              "          document.querySelector('#df-2ea0fee0-6208-43ce-b814-bdf6eec87610 button.colab-df-convert');\n",
              "        buttonEl.style.display =\n",
              "          google.colab.kernel.accessAllowed ? 'block' : 'none';\n",
              "\n",
              "        async function convertToInteractive(key) {\n",
              "          const element = document.querySelector('#df-2ea0fee0-6208-43ce-b814-bdf6eec87610');\n",
              "          const dataTable =\n",
              "            await google.colab.kernel.invokeFunction('convertToInteractive',\n",
              "                                                     [key], {});\n",
              "          if (!dataTable) return;\n",
              "\n",
              "          const docLinkHtml = 'Like what you see? Visit the ' +\n",
              "            '<a target=\"_blank\" href=https://colab.research.google.com/notebooks/data_table.ipynb>data table notebook</a>'\n",
              "            + ' to learn more about interactive tables.';\n",
              "          element.innerHTML = '';\n",
              "          dataTable['output_type'] = 'display_data';\n",
              "          await google.colab.output.renderOutput(dataTable, element);\n",
              "          const docLink = document.createElement('div');\n",
              "          docLink.innerHTML = docLinkHtml;\n",
              "          element.appendChild(docLink);\n",
              "        }\n",
              "      </script>\n",
              "    </div>\n",
              "  </div>\n",
              "  "
            ]
          },
          "metadata": {},
          "execution_count": 137
        }
      ]
    },
    {
      "cell_type": "code",
      "source": [
        "prediksi_teratas(34, model, 5)"
      ],
      "metadata": {
        "colab": {
          "base_uri": "https://localhost:8080/",
          "height": 296
        },
        "id": "1MszURC_OW6N",
        "outputId": "4ac2fa93-0c7b-420e-c03b-4a1fb119603d"
      },
      "execution_count": null,
      "outputs": [
        {
          "output_type": "stream",
          "name": "stdout",
          "text": [
            "7 genre yang banyak ditonton oleh pengguna : \n",
            "\n",
            "['Action', 'Comedy', 'Adventure', 'Sci-Fi', 'Fantasy', 'Shounen', 'Romance']\n",
            "===================================================================================================================\n"
          ]
        },
        {
          "output_type": "execute_result",
          "data": {
            "text/plain": [
              "                                             name   type  rating_predict  \\\n",
              "0                                    PetoPeto-san     TV           10.24   \n",
              "1                                     Little Nemo  Movie           10.11   \n",
              "2                              Aria The Animation     TV           10.10   \n",
              "3                                            TO-Y    OVA           10.10   \n",
              "4  Wellber no Monogatari: Sisters of Wellber Zwei     TV            9.99   \n",
              "\n",
              "                                     genre  \n",
              "0         Comedy, Fantasy, Romance, School  \n",
              "1                       Adventure, Fantasy  \n",
              "2  Fantasy, Sci-Fi, Shounen, Slice of Life  \n",
              "3                    Drama, Music, Shounen  \n",
              "4  Adventure, Fantasy, Historical, Romance  "
            ],
            "text/html": [
              "\n",
              "  <div id=\"df-e1a459a7-35c4-42fc-b7eb-83a5c9df8051\">\n",
              "    <div class=\"colab-df-container\">\n",
              "      <div>\n",
              "<style scoped>\n",
              "    .dataframe tbody tr th:only-of-type {\n",
              "        vertical-align: middle;\n",
              "    }\n",
              "\n",
              "    .dataframe tbody tr th {\n",
              "        vertical-align: top;\n",
              "    }\n",
              "\n",
              "    .dataframe thead th {\n",
              "        text-align: right;\n",
              "    }\n",
              "</style>\n",
              "<table border=\"1\" class=\"dataframe\">\n",
              "  <thead>\n",
              "    <tr style=\"text-align: right;\">\n",
              "      <th></th>\n",
              "      <th>name</th>\n",
              "      <th>type</th>\n",
              "      <th>rating_predict</th>\n",
              "      <th>genre</th>\n",
              "    </tr>\n",
              "  </thead>\n",
              "  <tbody>\n",
              "    <tr>\n",
              "      <th>0</th>\n",
              "      <td>PetoPeto-san</td>\n",
              "      <td>TV</td>\n",
              "      <td>10.24</td>\n",
              "      <td>Comedy, Fantasy, Romance, School</td>\n",
              "    </tr>\n",
              "    <tr>\n",
              "      <th>1</th>\n",
              "      <td>Little Nemo</td>\n",
              "      <td>Movie</td>\n",
              "      <td>10.11</td>\n",
              "      <td>Adventure, Fantasy</td>\n",
              "    </tr>\n",
              "    <tr>\n",
              "      <th>2</th>\n",
              "      <td>Aria The Animation</td>\n",
              "      <td>TV</td>\n",
              "      <td>10.10</td>\n",
              "      <td>Fantasy, Sci-Fi, Shounen, Slice of Life</td>\n",
              "    </tr>\n",
              "    <tr>\n",
              "      <th>3</th>\n",
              "      <td>TO-Y</td>\n",
              "      <td>OVA</td>\n",
              "      <td>10.10</td>\n",
              "      <td>Drama, Music, Shounen</td>\n",
              "    </tr>\n",
              "    <tr>\n",
              "      <th>4</th>\n",
              "      <td>Wellber no Monogatari: Sisters of Wellber Zwei</td>\n",
              "      <td>TV</td>\n",
              "      <td>9.99</td>\n",
              "      <td>Adventure, Fantasy, Historical, Romance</td>\n",
              "    </tr>\n",
              "  </tbody>\n",
              "</table>\n",
              "</div>\n",
              "      <button class=\"colab-df-convert\" onclick=\"convertToInteractive('df-e1a459a7-35c4-42fc-b7eb-83a5c9df8051')\"\n",
              "              title=\"Convert this dataframe to an interactive table.\"\n",
              "              style=\"display:none;\">\n",
              "        \n",
              "  <svg xmlns=\"http://www.w3.org/2000/svg\" height=\"24px\"viewBox=\"0 0 24 24\"\n",
              "       width=\"24px\">\n",
              "    <path d=\"M0 0h24v24H0V0z\" fill=\"none\"/>\n",
              "    <path d=\"M18.56 5.44l.94 2.06.94-2.06 2.06-.94-2.06-.94-.94-2.06-.94 2.06-2.06.94zm-11 1L8.5 8.5l.94-2.06 2.06-.94-2.06-.94L8.5 2.5l-.94 2.06-2.06.94zm10 10l.94 2.06.94-2.06 2.06-.94-2.06-.94-.94-2.06-.94 2.06-2.06.94z\"/><path d=\"M17.41 7.96l-1.37-1.37c-.4-.4-.92-.59-1.43-.59-.52 0-1.04.2-1.43.59L10.3 9.45l-7.72 7.72c-.78.78-.78 2.05 0 2.83L4 21.41c.39.39.9.59 1.41.59.51 0 1.02-.2 1.41-.59l7.78-7.78 2.81-2.81c.8-.78.8-2.07 0-2.86zM5.41 20L4 18.59l7.72-7.72 1.47 1.35L5.41 20z\"/>\n",
              "  </svg>\n",
              "      </button>\n",
              "      \n",
              "  <style>\n",
              "    .colab-df-container {\n",
              "      display:flex;\n",
              "      flex-wrap:wrap;\n",
              "      gap: 12px;\n",
              "    }\n",
              "\n",
              "    .colab-df-convert {\n",
              "      background-color: #E8F0FE;\n",
              "      border: none;\n",
              "      border-radius: 50%;\n",
              "      cursor: pointer;\n",
              "      display: none;\n",
              "      fill: #1967D2;\n",
              "      height: 32px;\n",
              "      padding: 0 0 0 0;\n",
              "      width: 32px;\n",
              "    }\n",
              "\n",
              "    .colab-df-convert:hover {\n",
              "      background-color: #E2EBFA;\n",
              "      box-shadow: 0px 1px 2px rgba(60, 64, 67, 0.3), 0px 1px 3px 1px rgba(60, 64, 67, 0.15);\n",
              "      fill: #174EA6;\n",
              "    }\n",
              "\n",
              "    [theme=dark] .colab-df-convert {\n",
              "      background-color: #3B4455;\n",
              "      fill: #D2E3FC;\n",
              "    }\n",
              "\n",
              "    [theme=dark] .colab-df-convert:hover {\n",
              "      background-color: #434B5C;\n",
              "      box-shadow: 0px 1px 3px 1px rgba(0, 0, 0, 0.15);\n",
              "      filter: drop-shadow(0px 1px 2px rgba(0, 0, 0, 0.3));\n",
              "      fill: #FFFFFF;\n",
              "    }\n",
              "  </style>\n",
              "\n",
              "      <script>\n",
              "        const buttonEl =\n",
              "          document.querySelector('#df-e1a459a7-35c4-42fc-b7eb-83a5c9df8051 button.colab-df-convert');\n",
              "        buttonEl.style.display =\n",
              "          google.colab.kernel.accessAllowed ? 'block' : 'none';\n",
              "\n",
              "        async function convertToInteractive(key) {\n",
              "          const element = document.querySelector('#df-e1a459a7-35c4-42fc-b7eb-83a5c9df8051');\n",
              "          const dataTable =\n",
              "            await google.colab.kernel.invokeFunction('convertToInteractive',\n",
              "                                                     [key], {});\n",
              "          if (!dataTable) return;\n",
              "\n",
              "          const docLinkHtml = 'Like what you see? Visit the ' +\n",
              "            '<a target=\"_blank\" href=https://colab.research.google.com/notebooks/data_table.ipynb>data table notebook</a>'\n",
              "            + ' to learn more about interactive tables.';\n",
              "          element.innerHTML = '';\n",
              "          dataTable['output_type'] = 'display_data';\n",
              "          await google.colab.output.renderOutput(dataTable, element);\n",
              "          const docLink = document.createElement('div');\n",
              "          docLink.innerHTML = docLinkHtml;\n",
              "          element.appendChild(docLink);\n",
              "        }\n",
              "      </script>\n",
              "    </div>\n",
              "  </div>\n",
              "  "
            ]
          },
          "metadata": {},
          "execution_count": 139
        }
      ]
    },
    {
      "cell_type": "code",
      "source": [
        "prediksi_teratas(45, model, 5)"
      ],
      "metadata": {
        "colab": {
          "base_uri": "https://localhost:8080/",
          "height": 296
        },
        "id": "KZNFrYcGOaYi",
        "outputId": "4a8091a8-c765-4970-db65-88edd2023cc2"
      },
      "execution_count": null,
      "outputs": [
        {
          "output_type": "stream",
          "name": "stdout",
          "text": [
            "7 genre yang banyak ditonton oleh pengguna : \n",
            "\n",
            "['Comedy', 'Adventure', 'Fantasy', 'Action', 'Shounen', 'Sci-Fi', 'Drama']\n",
            "===================================================================================================================\n"
          ]
        },
        {
          "output_type": "execute_result",
          "data": {
            "text/plain": [
              "                    name type  rating_predict  \\\n",
              "0   Penguin Musume♥Heart  ONA            9.88   \n",
              "1           PetoPeto-san   TV            9.83   \n",
              "2           The Urotsuki  OVA            9.79   \n",
              "3  Batman: Gotham Knight  OVA            9.61   \n",
              "4       Prince of Tennis   TV            9.49   \n",
              "\n",
              "                                        genre  \n",
              "0        Comedy, Ecchi, School, Slice of Life  \n",
              "1            Comedy, Fantasy, Romance, School  \n",
              "2  Adventure, Demons, Fantasy, Hentai, Horror  \n",
              "3             Action, Adventure, Martial Arts  \n",
              "4     Action, Comedy, School, Shounen, Sports  "
            ],
            "text/html": [
              "\n",
              "  <div id=\"df-54709524-26cf-4406-8d66-896fcc1cd9ec\">\n",
              "    <div class=\"colab-df-container\">\n",
              "      <div>\n",
              "<style scoped>\n",
              "    .dataframe tbody tr th:only-of-type {\n",
              "        vertical-align: middle;\n",
              "    }\n",
              "\n",
              "    .dataframe tbody tr th {\n",
              "        vertical-align: top;\n",
              "    }\n",
              "\n",
              "    .dataframe thead th {\n",
              "        text-align: right;\n",
              "    }\n",
              "</style>\n",
              "<table border=\"1\" class=\"dataframe\">\n",
              "  <thead>\n",
              "    <tr style=\"text-align: right;\">\n",
              "      <th></th>\n",
              "      <th>name</th>\n",
              "      <th>type</th>\n",
              "      <th>rating_predict</th>\n",
              "      <th>genre</th>\n",
              "    </tr>\n",
              "  </thead>\n",
              "  <tbody>\n",
              "    <tr>\n",
              "      <th>0</th>\n",
              "      <td>Penguin Musume♥Heart</td>\n",
              "      <td>ONA</td>\n",
              "      <td>9.88</td>\n",
              "      <td>Comedy, Ecchi, School, Slice of Life</td>\n",
              "    </tr>\n",
              "    <tr>\n",
              "      <th>1</th>\n",
              "      <td>PetoPeto-san</td>\n",
              "      <td>TV</td>\n",
              "      <td>9.83</td>\n",
              "      <td>Comedy, Fantasy, Romance, School</td>\n",
              "    </tr>\n",
              "    <tr>\n",
              "      <th>2</th>\n",
              "      <td>The Urotsuki</td>\n",
              "      <td>OVA</td>\n",
              "      <td>9.79</td>\n",
              "      <td>Adventure, Demons, Fantasy, Hentai, Horror</td>\n",
              "    </tr>\n",
              "    <tr>\n",
              "      <th>3</th>\n",
              "      <td>Batman: Gotham Knight</td>\n",
              "      <td>OVA</td>\n",
              "      <td>9.61</td>\n",
              "      <td>Action, Adventure, Martial Arts</td>\n",
              "    </tr>\n",
              "    <tr>\n",
              "      <th>4</th>\n",
              "      <td>Prince of Tennis</td>\n",
              "      <td>TV</td>\n",
              "      <td>9.49</td>\n",
              "      <td>Action, Comedy, School, Shounen, Sports</td>\n",
              "    </tr>\n",
              "  </tbody>\n",
              "</table>\n",
              "</div>\n",
              "      <button class=\"colab-df-convert\" onclick=\"convertToInteractive('df-54709524-26cf-4406-8d66-896fcc1cd9ec')\"\n",
              "              title=\"Convert this dataframe to an interactive table.\"\n",
              "              style=\"display:none;\">\n",
              "        \n",
              "  <svg xmlns=\"http://www.w3.org/2000/svg\" height=\"24px\"viewBox=\"0 0 24 24\"\n",
              "       width=\"24px\">\n",
              "    <path d=\"M0 0h24v24H0V0z\" fill=\"none\"/>\n",
              "    <path d=\"M18.56 5.44l.94 2.06.94-2.06 2.06-.94-2.06-.94-.94-2.06-.94 2.06-2.06.94zm-11 1L8.5 8.5l.94-2.06 2.06-.94-2.06-.94L8.5 2.5l-.94 2.06-2.06.94zm10 10l.94 2.06.94-2.06 2.06-.94-2.06-.94-.94-2.06-.94 2.06-2.06.94z\"/><path d=\"M17.41 7.96l-1.37-1.37c-.4-.4-.92-.59-1.43-.59-.52 0-1.04.2-1.43.59L10.3 9.45l-7.72 7.72c-.78.78-.78 2.05 0 2.83L4 21.41c.39.39.9.59 1.41.59.51 0 1.02-.2 1.41-.59l7.78-7.78 2.81-2.81c.8-.78.8-2.07 0-2.86zM5.41 20L4 18.59l7.72-7.72 1.47 1.35L5.41 20z\"/>\n",
              "  </svg>\n",
              "      </button>\n",
              "      \n",
              "  <style>\n",
              "    .colab-df-container {\n",
              "      display:flex;\n",
              "      flex-wrap:wrap;\n",
              "      gap: 12px;\n",
              "    }\n",
              "\n",
              "    .colab-df-convert {\n",
              "      background-color: #E8F0FE;\n",
              "      border: none;\n",
              "      border-radius: 50%;\n",
              "      cursor: pointer;\n",
              "      display: none;\n",
              "      fill: #1967D2;\n",
              "      height: 32px;\n",
              "      padding: 0 0 0 0;\n",
              "      width: 32px;\n",
              "    }\n",
              "\n",
              "    .colab-df-convert:hover {\n",
              "      background-color: #E2EBFA;\n",
              "      box-shadow: 0px 1px 2px rgba(60, 64, 67, 0.3), 0px 1px 3px 1px rgba(60, 64, 67, 0.15);\n",
              "      fill: #174EA6;\n",
              "    }\n",
              "\n",
              "    [theme=dark] .colab-df-convert {\n",
              "      background-color: #3B4455;\n",
              "      fill: #D2E3FC;\n",
              "    }\n",
              "\n",
              "    [theme=dark] .colab-df-convert:hover {\n",
              "      background-color: #434B5C;\n",
              "      box-shadow: 0px 1px 3px 1px rgba(0, 0, 0, 0.15);\n",
              "      filter: drop-shadow(0px 1px 2px rgba(0, 0, 0, 0.3));\n",
              "      fill: #FFFFFF;\n",
              "    }\n",
              "  </style>\n",
              "\n",
              "      <script>\n",
              "        const buttonEl =\n",
              "          document.querySelector('#df-54709524-26cf-4406-8d66-896fcc1cd9ec button.colab-df-convert');\n",
              "        buttonEl.style.display =\n",
              "          google.colab.kernel.accessAllowed ? 'block' : 'none';\n",
              "\n",
              "        async function convertToInteractive(key) {\n",
              "          const element = document.querySelector('#df-54709524-26cf-4406-8d66-896fcc1cd9ec');\n",
              "          const dataTable =\n",
              "            await google.colab.kernel.invokeFunction('convertToInteractive',\n",
              "                                                     [key], {});\n",
              "          if (!dataTable) return;\n",
              "\n",
              "          const docLinkHtml = 'Like what you see? Visit the ' +\n",
              "            '<a target=\"_blank\" href=https://colab.research.google.com/notebooks/data_table.ipynb>data table notebook</a>'\n",
              "            + ' to learn more about interactive tables.';\n",
              "          element.innerHTML = '';\n",
              "          dataTable['output_type'] = 'display_data';\n",
              "          await google.colab.output.renderOutput(dataTable, element);\n",
              "          const docLink = document.createElement('div');\n",
              "          docLink.innerHTML = docLinkHtml;\n",
              "          element.appendChild(docLink);\n",
              "        }\n",
              "      </script>\n",
              "    </div>\n",
              "  </div>\n",
              "  "
            ]
          },
          "metadata": {},
          "execution_count": 140
        }
      ]
    }
  ]
}